{
  "nbformat": 4,
  "nbformat_minor": 0,
  "metadata": {
    "colab": {
      "name": "Project 5 Github.ipynb",
      "provenance": [],
      "toc_visible": true
    },
    "kernelspec": {
      "name": "python3",
      "display_name": "Python 3"
    },
    "accelerator": "GPU"
  },
  "cells": [
    {
      "cell_type": "markdown",
      "metadata": {
        "id": "h370gtZNc5aI",
        "colab_type": "text"
      },
      "source": [
        "## Imports"
      ]
    },
    {
      "cell_type": "code",
      "metadata": {
        "id": "ybjKVJeCei4F",
        "colab_type": "code",
        "outputId": "899d22fe-b190-4aed-af71-edba51a94bab",
        "colab": {
          "base_uri": "https://localhost:8080/",
          "height": 411
        }
      },
      "source": [
        "!pip install wget\n",
        "!pip install split-folders\n",
        "!pip install -U keras # upgrade keras to 2.3+ to use tensorflow 2.0+\n",
        "\n",
        "import os\n",
        "import wget\n",
        "import csv\n",
        "import webbrowser\n",
        "import numpy as np\n",
        "import pandas as pd\n",
        "import split_folders\n",
        "\n",
        "import matplotlib as mpl\n",
        "import matplotlib.pyplot as plt\n",
        "\n",
        "from keras import models\n",
        "from keras import layers\n",
        "from keras import optimizers\n",
        "from keras.models import load_model\n",
        "from keras.applications import VGG16\n",
        "from keras.applications import ResNet50\n",
        "from keras.preprocessing.image import ImageDataGenerator\n",
        "\n",
        "from mlxtend.evaluate import confusion_matrix\n",
        "from mlxtend.plotting import plot_confusion_matrix\n",
        "\n",
        "#pip install -U keras # upgrade keras to 2.3+ to use tensorflow 2.0+\n",
        "\n",
        "%config InlineBackend.figure_format = 'retina' # display sharper image for any plt.show()"
      ],
      "execution_count": 3,
      "outputs": [
        {
          "output_type": "stream",
          "text": [
            "Collecting wget\n",
            "  Downloading https://files.pythonhosted.org/packages/47/6a/62e288da7bcda82b935ff0c6cfe542970f04e29c756b0e147251b2fb251f/wget-3.2.zip\n",
            "Building wheels for collected packages: wget\n",
            "  Building wheel for wget (setup.py) ... \u001b[?25l\u001b[?25hdone\n",
            "  Created wheel for wget: filename=wget-3.2-cp36-none-any.whl size=9682 sha256=4b5545af96207a64375c0b15f62394c33fde21ae5ae09d6ada6c40b96a547b18\n",
            "  Stored in directory: /root/.cache/pip/wheels/40/15/30/7d8f7cea2902b4db79e3fea550d7d7b85ecb27ef992b618f3f\n",
            "Successfully built wget\n",
            "Installing collected packages: wget\n",
            "Successfully installed wget-3.2\n",
            "Collecting split-folders\n",
            "  Downloading https://files.pythonhosted.org/packages/20/67/29dda743e6d23ac1ea3d16704d8bbb48d65faf3f1b1eaf53153b3da56c56/split_folders-0.3.1-py3-none-any.whl\n",
            "Installing collected packages: split-folders\n",
            "Successfully installed split-folders-0.3.1\n",
            "Requirement already up-to-date: keras in /usr/local/lib/python3.6/dist-packages (2.3.1)\n",
            "Requirement already satisfied, skipping upgrade: six>=1.9.0 in /usr/local/lib/python3.6/dist-packages (from keras) (1.12.0)\n",
            "Requirement already satisfied, skipping upgrade: scipy>=0.14 in /usr/local/lib/python3.6/dist-packages (from keras) (1.4.1)\n",
            "Requirement already satisfied, skipping upgrade: numpy>=1.9.1 in /usr/local/lib/python3.6/dist-packages (from keras) (1.18.3)\n",
            "Requirement already satisfied, skipping upgrade: keras-preprocessing>=1.0.5 in /usr/local/lib/python3.6/dist-packages (from keras) (1.1.0)\n",
            "Requirement already satisfied, skipping upgrade: keras-applications>=1.0.6 in /usr/local/lib/python3.6/dist-packages (from keras) (1.0.8)\n",
            "Requirement already satisfied, skipping upgrade: pyyaml in /usr/local/lib/python3.6/dist-packages (from keras) (3.13)\n",
            "Requirement already satisfied, skipping upgrade: h5py in /usr/local/lib/python3.6/dist-packages (from keras) (2.10.0)\n"
          ],
          "name": "stdout"
        },
        {
          "output_type": "stream",
          "text": [
            "Using TensorFlow backend.\n"
          ],
          "name": "stderr"
        }
      ]
    },
    {
      "cell_type": "markdown",
      "metadata": {
        "id": "GirMxRYCE0Le",
        "colab_type": "text"
      },
      "source": [
        "##Data Acquistion"
      ]
    },
    {
      "cell_type": "markdown",
      "metadata": {
        "id": "Mam3HIII-Jkd",
        "colab_type": "text"
      },
      "source": [
        "###Scrape images"
      ]
    },
    {
      "cell_type": "markdown",
      "metadata": {
        "id": "TtPZ9x-HLkIh",
        "colab_type": "text"
      },
      "source": [
        "Download images from a list of URL's for each artists using 'wget' python module.\n",
        "The text files containing list of URL's for each artists are located at\n",
        "https://drive.google.com/open?id=1d1h0MnvoZ7NKQpsJvAkd9PvfisSJM75O"
      ]
    },
    {
      "cell_type": "code",
      "metadata": {
        "id": "wSFRw9DwsUsy",
        "colab_type": "code",
        "colab": {}
      },
      "source": [
        "artists = ['banksy', 'basquiat', 'blek_le_rat', 'cope', 'daim', 'david_choe', 'dondi_white', \n",
        "          'futura2000', 'keith_haring', 'lady_pink', 'os_gemoeos', 'retna', 'roa', 'seen', \n",
        "          'taki183', 'vhils']\n",
        "\n",
        "for i in range(len(artists)):\n",
        "    base_dir = '/content/drive/My Drive/Graffiti/downloads/' + artists[i]\n",
        "    os.mkdir(base_dir)\n",
        "    path = '/content/drive/My Drive/Graffiti/url_links/' + artists[i] + '.txt'\n",
        "    with open(path) as f:\n",
        "        reader = csv.reader(f)\n",
        "        for row in reader:\n",
        "            try:\n",
        "                wget.download(row[0], out=base_dir)\n",
        "            except:\n",
        "                continue"
      ],
      "execution_count": 0,
      "outputs": []
    },
    {
      "cell_type": "markdown",
      "metadata": {
        "id": "uCGRONxPGr5X",
        "colab_type": "text"
      },
      "source": [
        "Rename files in sequential order for each of the artist folders."
      ]
    },
    {
      "cell_type": "code",
      "metadata": {
        "id": "oGnsIZ9IGq4v",
        "colab_type": "code",
        "colab": {}
      },
      "source": [
        "for i in range(len(artists)):\n",
        "    d = '/content/drive/My Drive/graffiti/downloads/' + artists[i]\n",
        "    counter = 1\n",
        "    for path in os.listdir(d):\n",
        "        print(\"path\", path)\n",
        "        full_path = os.path.join(d, path)\n",
        "        print(\"full_path\", full_path, '\\n')\n",
        "        if os.path.isfile(full_path):         \n",
        "            new_path = os.path.join(d, artists[i] + str(counter) + \".jpg\")\n",
        "            print(new_path)\n",
        "            os.rename(full_path, new_path)\n",
        "            counter += 1"
      ],
      "execution_count": 0,
      "outputs": []
    },
    {
      "cell_type": "markdown",
      "metadata": {
        "id": "sVnsiBxyDLd-",
        "colab_type": "text"
      },
      "source": [
        "###Data Cleaning"
      ]
    },
    {
      "cell_type": "markdown",
      "metadata": {
        "id": "JuJtuTd_9O3a",
        "colab_type": "text"
      },
      "source": [
        "Manually remove images that are imperfect, ambiguous, duplicates and non-related, \n",
        "results in an average number of 200 images for each class. With fairly balanced classes, I will use accuracy as the performance metric."
      ]
    },
    {
      "cell_type": "code",
      "metadata": {
        "id": "ntWdPxprFHee",
        "colab_type": "code",
        "outputId": "4b152af7-78cc-4bd7-b0eb-8d1eb5bf30ba",
        "colab": {
          "base_uri": "https://localhost:8080/",
          "height": 289
        }
      },
      "source": [
        "images_count = []\n",
        "for i in range(16):\n",
        "    images_path = '/content/drive/My Drive/graffiti/downloads/' + str(artists[i])\n",
        "    images_count.append(len(os.listdir(str(images_path))))\n",
        "    print('{:<15}{}'.format(artists[i], len(os.listdir(str(images_path)))))"
      ],
      "execution_count": 0,
      "outputs": [
        {
          "output_type": "stream",
          "text": [
            "banksy         175\n",
            "basquiat       193\n",
            "blek_le_rat    202\n",
            "cope           202\n",
            "daim           182\n",
            "david_choe     142\n",
            "dondi_white    137\n",
            "futura2000     166\n",
            "keith_haring   225\n",
            "lady_pink      176\n",
            "os_gemoeos     213\n",
            "retna          246\n",
            "roa            262\n",
            "seen           224\n",
            "taki183        203\n",
            "vhils          204\n"
          ],
          "name": "stdout"
        }
      ]
    },
    {
      "cell_type": "code",
      "metadata": {
        "id": "JHkUmNtW8XNI",
        "colab_type": "code",
        "outputId": "ca647c11-34bc-41be-d16a-8809785ff351",
        "colab": {
          "base_uri": "https://localhost:8080/",
          "height": 215
        }
      },
      "source": [
        "plt.figure(figsize=(14,2))\n",
        "plt.bar(artists_list, images_count, width = 0.4)\n",
        "#plt.xlabel('Artists')\n",
        "#plt.ylabel('Image Counts')\n",
        "plt.title('16 Artists')\n",
        "plt.xticks(rotation = 45)\n",
        "mpl.rcParams['xtick.major.size'] = 5\n",
        "mpl.rcParams['xtick.major.width'] = 2\n",
        "plt.yticks()\n",
        "plt.show()\n"
      ],
      "execution_count": 0,
      "outputs": [
        {
          "output_type": "display_data",
          "data": {
            "image/png": "[encoded data removed]",
            "text/plain": [
              "<Figure size 1008x144 with 1 Axes>"
            ]
          },
          "metadata": {
            "tags": [],
            "image/png": {
              "width": 821,
              "height": 198
            },
            "needs_background": "light"
          }
        }
      ]
    },
    {
      "cell_type": "markdown",
      "metadata": {
        "id": "6CS1zbRr3HN6",
        "colab_type": "text"
      },
      "source": [
        "Split imgage files for each artists into a train, validation and test folder. The dataset split ratio percentage is 60, 20, 20."
      ]
    },
    {
      "cell_type": "code",
      "metadata": {
        "id": "2hm5PUh-x4_q",
        "colab_type": "code",
        "colab": {}
      },
      "source": [
        "orig_path = \"/content/drive/My Drive/graffiti/downloads/\"\n",
        "output_path = \"/content/drive/My Drive/graffiti/artists/\"\n",
        "split_folders.ratio(orig_path, output=output_path, seed=1337, ratio=(.6, .2, .2))\n",
        "\n",
        "os.rename(\"My Drive/Graffiti/artists/val\", \"My Drive/Graffiti/artists/validation\")"
      ],
      "execution_count": 0,
      "outputs": []
    },
    {
      "cell_type": "markdown",
      "metadata": {
        "id": "cDl_31UkekAP",
        "colab_type": "text"
      },
      "source": [
        "#Using VGG16 Convolutional Base Network "
      ]
    },
    {
      "cell_type": "markdown",
      "metadata": {
        "id": "gZFlchU6Lm1j",
        "colab_type": "text"
      },
      "source": [
        "Using output of conv_base as inputs to a new model"
      ]
    },
    {
      "cell_type": "markdown",
      "metadata": {
        "id": "Drjk7-vxg43-",
        "colab_type": "text"
      },
      "source": [
        "Instantiate VGG16 model:"
      ]
    },
    {
      "cell_type": "code",
      "metadata": {
        "id": "bKVya39TfSff",
        "colab_type": "code",
        "outputId": "a335edb0-97a1-4cab-a816-f113f9405ebf",
        "colab": {
          "base_uri": "https://localhost:8080/",
          "height": 71
        }
      },
      "source": [
        "conv_base = VGG16(weights='imagenet',\n",
        "                  include_top=False,\n",
        "                  input_shape=(150, 150, 3))"
      ],
      "execution_count": 34,
      "outputs": [
        {
          "output_type": "stream",
          "text": [
            "Downloading data from https://github.com/fchollet/deep-learning-models/releases/download/v0.1/vgg16_weights_tf_dim_ordering_tf_kernels_notop.h5\n",
            "58892288/58889256 [==============================] - 2s 0us/step\n"
          ],
          "name": "stdout"
        }
      ]
    },
    {
      "cell_type": "markdown",
      "metadata": {
        "id": "rXqfu4nXhB9h",
        "colab_type": "text"
      },
      "source": [
        "### Data Preprocessing and Feature Extraction\n",
        "\n"
      ]
    },
    {
      "cell_type": "markdown",
      "metadata": {
        "id": "ANfbmCQBNDTc",
        "colab_type": "text"
      },
      "source": [
        "- Use ImageDataGenerator from Keras utilities for data preprocessing. Turns image files into batches of pre-processed tensors. Exract images as numpy arrays as well as their labels.\n",
        "- Run convolutional base over dataset, recording it's output to a numpy array. Extract features from images by calling predict method of the conv_base model."
      ]
    },
    {
      "cell_type": "code",
      "metadata": {
        "id": "ceWHYOPPiV4F",
        "colab_type": "code",
        "colab": {}
      },
      "source": [
        "base_dir = '/content/drive/My Drive/Graffiti/artists/' # images located on Google Drive\n",
        "\n",
        "train_dir = os.path.join(base_dir, 'train')\n",
        "validation_dir = os.path.join(base_dir, 'validation')\n",
        "test_dir = os.path.join(base_dir, 'test')\n",
        "\n",
        "datagen = ImageDataGenerator(rescale=1./255)\n",
        "batch_size = 20\n",
        "\n",
        "def extract_features(directory, sample_count):\n",
        "    features = np.zeros(shape=(sample_count, 4, 4, 512))\n",
        "    labels = np.zeros(shape=(sample_count, 16))\n",
        "    generator = datagen.flow_from_directory(\n",
        "        directory,\n",
        "        target_size=(150, 150),\n",
        "        batch_size=batch_size,\n",
        "        class_mode= 'categorical')\n",
        "    i = 0\n",
        "    for inputs_batch, labels_batch in generator:\n",
        "        features_batch = conv_base.predict(inputs_batch)\n",
        "        try:\n",
        "            features[i * batch_size : (i + 1) * batch_size] = features_batch\n",
        "            labels[i * batch_size : (i + 1) * batch_size] = labels_batch\n",
        "            i += 1\n",
        "        except:\n",
        "            remaining_samples = features[i * batch_size : (i + 1) * batch_size].shape[0] \n",
        "            features[i * batch_size : (i + 1) * batch_size] = features_batch[:remaining_samples]\n",
        "            labels[i * batch_size : (i + 1) * batch_size] = labels_batch[:remaining_samples]\n",
        "        if i * batch_size >= sample_count:\n",
        "            # Note that since generators yield data indefinitely in a loop,\n",
        "            # we must `break` after every image has been seen once.\n",
        "            break\n",
        "    return features, labels\n",
        "\n",
        "train_features, train_labels = extract_features(train_dir, 1889)\n",
        "validation_features, validation_labels = extract_features(validation_dir, 628)\n",
        "test_features, test_labels = extract_features(test_dir, 631)"
      ],
      "execution_count": 0,
      "outputs": []
    },
    {
      "cell_type": "markdown",
      "metadata": {
        "id": "Jvy44MjWK2Uv",
        "colab_type": "text"
      },
      "source": [
        "The extracted features are of shape [samples x 4 x 4 x 512] and have to be flatten to [samples x 8192] before being fed to a densely-connected classifier."
      ]
    },
    {
      "cell_type": "code",
      "metadata": {
        "id": "-w7KrGy4iVj4",
        "colab_type": "code",
        "colab": {}
      },
      "source": [
        "train_features = np.reshape(train_features, (1889, 4 * 4 * 512))\n",
        "validation_features = np.reshape(validation_features, (628, 4 * 4 * 512))\n",
        "test_features = np.reshape(test_features, (631, 4 * 4 * 512))"
      ],
      "execution_count": 0,
      "outputs": []
    },
    {
      "cell_type": "markdown",
      "metadata": {
        "id": "jF3YlSwLKrWB",
        "colab_type": "text"
      },
      "source": [
        "Save flattened extracted features and labels to be for tuning hyperparameters to compare accuracy."
      ]
    },
    {
      "cell_type": "code",
      "metadata": {
        "id": "z_gFpYmqeoRt",
        "colab_type": "code",
        "colab": {}
      },
      "source": [
        "np.save('/content/drive/My Drive/Graffiti/artists/train_features', train_features)\n",
        "np.save('/content/drive/My Drive/Graffiti/artists/validation_features', validation_features)\n",
        "np.save('/content/drive/My Drive/Graffiti/artists/test_features', test_features)\n",
        "np.save('/content/drive/My Drive/Graffiti/artists/train_labels', train_labels)\n",
        "np.save('/content/drive/My Drive/Graffiti/artists/validation_labels', validation_labels)\n",
        "np.save('/content/drive/My Drive/Graffiti/artists/test_labels', test_labels)"
      ],
      "execution_count": 0,
      "outputs": []
    },
    {
      "cell_type": "markdown",
      "metadata": {
        "id": "YxWyL3BgLn2g",
        "colab_type": "text"
      },
      "source": [
        "Load the saved flattened exracted features and labels."
      ]
    },
    {
      "cell_type": "code",
      "metadata": {
        "id": "2el86fuFiJq9",
        "colab_type": "code",
        "colab": {}
      },
      "source": [
        "train_features = np.load('/content/drive/My Drive/Graffiti/artists/train_features.npy')\n",
        "validation_features = np.load('/content/drive/My Drive/Graffiti/artists/validation_features.npy')\n",
        "test_features = np.load('/content/drive/My Drive/Graffiti/artists/test_features.npy')\n",
        "\n",
        "train_labels = np.load('/content/drive/My Drive/Graffiti/artists/train_labels.npy')\n",
        "validation_labels = np.load('/content/drive/My Drive/Graffiti/artists/validation_labels.npy')\n",
        "test_labels = np.load('/content/drive/My Drive/Graffiti/artists/test_labels.npy')"
      ],
      "execution_count": 0,
      "outputs": []
    },
    {
      "cell_type": "markdown",
      "metadata": {
        "id": "USgn-F3yMd09",
        "colab_type": "text"
      },
      "source": [
        "###Build a base Model"
      ]
    },
    {
      "cell_type": "markdown",
      "metadata": {
        "id": "A4ibHPK8Cphb",
        "colab_type": "text"
      },
      "source": [
        "####Dense Units = 256, Dropout = 0.5)"
      ]
    },
    {
      "cell_type": "markdown",
      "metadata": {
        "id": "1Ip1KmFdMrDu",
        "colab_type": "text"
      },
      "source": [
        ""
      ]
    },
    {
      "cell_type": "code",
      "metadata": {
        "id": "8yTcyXqufTvn",
        "colab_type": "code",
        "outputId": "b1793424-8357-4e30-854d-baa212a5d075",
        "colab": {
          "base_uri": "https://localhost:8080/",
          "height": 1000
        }
      },
      "source": [
        "model = models.Sequential()\n",
        "model.add(layers.Dense(256, activation='relu', input_dim=4 * 4 * 512))\n",
        "model.add(layers.Dropout(0.50))\n",
        "model.add(layers.Dense(16, activation='softmax'))\n",
        "\n",
        "model.compile(optimizer=optimizers.RMSprop(lr=2e-5),\n",
        "              loss='categorical_crossentropy', # used to predict classes\n",
        "              metrics=['acc'])\n",
        "\n",
        "history = model.fit(train_features, train_labels,\n",
        "                    epochs=30,\n",
        "                    batch_size=20,\n",
        "                    validation_data=(validation_features, validation_labels))"
      ],
      "execution_count": 0,
      "outputs": [
        {
          "output_type": "stream",
          "text": [
            "Using TensorFlow backend.\n"
          ],
          "name": "stderr"
        },
        {
          "output_type": "stream",
          "text": [
            "Train on 1889 samples, validate on 628 samples\n",
            "Epoch 1/30\n",
            "1889/1889 [==============================] - 2s 1ms/step - loss: 2.9014 - acc: 0.0815 - val_loss: 2.6051 - val_acc: 0.2150\n",
            "Epoch 2/30\n",
            "1889/1889 [==============================] - 2s 1ms/step - loss: 2.5835 - acc: 0.1800 - val_loss: 2.4503 - val_acc: 0.3041\n",
            "Epoch 3/30\n",
            "1889/1889 [==============================] - 2s 1ms/step - loss: 2.4109 - acc: 0.2499 - val_loss: 2.3341 - val_acc: 0.3535\n",
            "Epoch 4/30\n",
            "1889/1889 [==============================] - 2s 1ms/step - loss: 2.2763 - acc: 0.3134 - val_loss: 2.2288 - val_acc: 0.3885\n",
            "Epoch 5/30\n",
            "1889/1889 [==============================] - 2s 1ms/step - loss: 2.1134 - acc: 0.3827 - val_loss: 2.1398 - val_acc: 0.3774\n",
            "Epoch 6/30\n",
            "1889/1889 [==============================] - 2s 1ms/step - loss: 2.0243 - acc: 0.4023 - val_loss: 2.0601 - val_acc: 0.4188\n",
            "Epoch 7/30\n",
            "1889/1889 [==============================] - 2s 1ms/step - loss: 1.9061 - acc: 0.4373 - val_loss: 1.9990 - val_acc: 0.4347\n",
            "Epoch 8/30\n",
            "1889/1889 [==============================] - 2s 1ms/step - loss: 1.8017 - acc: 0.4759 - val_loss: 1.9407 - val_acc: 0.4538\n",
            "Epoch 9/30\n",
            "1889/1889 [==============================] - 2s 1ms/step - loss: 1.7540 - acc: 0.4775 - val_loss: 1.8925 - val_acc: 0.4634\n",
            "Epoch 10/30\n",
            "1889/1889 [==============================] - 2s 1ms/step - loss: 1.6837 - acc: 0.5066 - val_loss: 1.8513 - val_acc: 0.4793\n",
            "Epoch 11/30\n",
            "1889/1889 [==============================] - 2s 1ms/step - loss: 1.5946 - acc: 0.5394 - val_loss: 1.8110 - val_acc: 0.4889\n",
            "Epoch 12/30\n",
            "1889/1889 [==============================] - 2s 1ms/step - loss: 1.5380 - acc: 0.5527 - val_loss: 1.7815 - val_acc: 0.4793\n",
            "Epoch 13/30\n",
            "1889/1889 [==============================] - 2s 1ms/step - loss: 1.4711 - acc: 0.5738 - val_loss: 1.7564 - val_acc: 0.4873\n",
            "Epoch 14/30\n",
            "1889/1889 [==============================] - 2s 1ms/step - loss: 1.4399 - acc: 0.5908 - val_loss: 1.7281 - val_acc: 0.4968\n",
            "Epoch 15/30\n",
            "1889/1889 [==============================] - 2s 1ms/step - loss: 1.3913 - acc: 0.6024 - val_loss: 1.7121 - val_acc: 0.4936\n",
            "Epoch 16/30\n",
            "1889/1889 [==============================] - 2s 1ms/step - loss: 1.3517 - acc: 0.6098 - val_loss: 1.6889 - val_acc: 0.5111\n",
            "Epoch 17/30\n",
            "1889/1889 [==============================] - 2s 1ms/step - loss: 1.3014 - acc: 0.6294 - val_loss: 1.6668 - val_acc: 0.5175\n",
            "Epoch 18/30\n",
            "1889/1889 [==============================] - 2s 1ms/step - loss: 1.2437 - acc: 0.6469 - val_loss: 1.6449 - val_acc: 0.5175\n",
            "Epoch 19/30\n",
            "1889/1889 [==============================] - 2s 1ms/step - loss: 1.2021 - acc: 0.6559 - val_loss: 1.6272 - val_acc: 0.5207\n",
            "Epoch 20/30\n",
            "1889/1889 [==============================] - 2s 1ms/step - loss: 1.1769 - acc: 0.6723 - val_loss: 1.6139 - val_acc: 0.5127\n",
            "Epoch 21/30\n",
            "1889/1889 [==============================] - 2s 1ms/step - loss: 1.1365 - acc: 0.6818 - val_loss: 1.6029 - val_acc: 0.5271\n",
            "Epoch 22/30\n",
            "1889/1889 [==============================] - 2s 1ms/step - loss: 1.1074 - acc: 0.6977 - val_loss: 1.5881 - val_acc: 0.5255\n",
            "Epoch 23/30\n",
            "1889/1889 [==============================] - 2s 1ms/step - loss: 1.0638 - acc: 0.7041 - val_loss: 1.5703 - val_acc: 0.5271\n",
            "Epoch 24/30\n",
            "1889/1889 [==============================] - 2s 1ms/step - loss: 1.0459 - acc: 0.7067 - val_loss: 1.5584 - val_acc: 0.5446\n",
            "Epoch 25/30\n",
            "1889/1889 [==============================] - 2s 1ms/step - loss: 1.0194 - acc: 0.7300 - val_loss: 1.5548 - val_acc: 0.5430\n",
            "Epoch 26/30\n",
            "1889/1889 [==============================] - 2s 1ms/step - loss: 0.9747 - acc: 0.7231 - val_loss: 1.5455 - val_acc: 0.5525\n",
            "Epoch 27/30\n",
            "1889/1889 [==============================] - 2s 1ms/step - loss: 0.9336 - acc: 0.7475 - val_loss: 1.5395 - val_acc: 0.5414\n",
            "Epoch 28/30\n",
            "1889/1889 [==============================] - 2s 1ms/step - loss: 0.9243 - acc: 0.7607 - val_loss: 1.5314 - val_acc: 0.5525\n",
            "Epoch 29/30\n",
            "1889/1889 [==============================] - 2s 1ms/step - loss: 0.9139 - acc: 0.7528 - val_loss: 1.5283 - val_acc: 0.5462\n",
            "Epoch 30/30\n",
            "1889/1889 [==============================] - 2s 1ms/step - loss: 0.8830 - acc: 0.7634 - val_loss: 1.5200 - val_acc: 0.5525\n"
          ],
          "name": "stdout"
        }
      ]
    },
    {
      "cell_type": "code",
      "metadata": {
        "id": "uizkcp6FKWse",
        "colab_type": "code",
        "outputId": "50a061e5-e503-4f85-d393-f3a102c2be69",
        "colab": {
          "base_uri": "https://localhost:8080/",
          "height": 255
        }
      },
      "source": [
        "model.summary()"
      ],
      "execution_count": 0,
      "outputs": [
        {
          "output_type": "stream",
          "text": [
            "Model: \"sequential_1\"\n",
            "_________________________________________________________________\n",
            "Layer (type)                 Output Shape              Param #   \n",
            "=================================================================\n",
            "dense_1 (Dense)              (None, 256)               2097408   \n",
            "_________________________________________________________________\n",
            "dropout_1 (Dropout)          (None, 256)               0         \n",
            "_________________________________________________________________\n",
            "dense_2 (Dense)              (None, 16)                4112      \n",
            "=================================================================\n",
            "Total params: 2,101,520\n",
            "Trainable params: 2,101,520\n",
            "Non-trainable params: 0\n",
            "_________________________________________________________________\n"
          ],
          "name": "stdout"
        }
      ]
    },
    {
      "cell_type": "code",
      "metadata": {
        "id": "amaTOFeM_qZb",
        "colab_type": "code",
        "colab": {}
      },
      "source": [
        "model.save(\"/content/drive/My Drive/Graffiti/artists/base_model.hdf5\")"
      ],
      "execution_count": 0,
      "outputs": []
    },
    {
      "cell_type": "code",
      "metadata": {
        "id": "noAnaNtAp_kE",
        "colab_type": "code",
        "outputId": "09449ef8-da29-4f7b-8b5b-cab054a6c87a",
        "colab": {
          "base_uri": "https://localhost:8080/",
          "height": 34
        }
      },
      "source": [
        "model_base = load_model(\"/content/drive/My Drive/Graffiti/artists/base_model.hdf5\")\n",
        "model_base"
      ],
      "execution_count": 5,
      "outputs": [
        {
          "output_type": "execute_result",
          "data": {
            "text/plain": [
              "<keras.engine.sequential.Sequential at 0x7fc40108f8d0>"
            ]
          },
          "metadata": {
            "tags": []
          },
          "execution_count": 5
        }
      ]
    },
    {
      "cell_type": "code",
      "metadata": {
        "id": "iAhHzEQftOwV",
        "colab_type": "code",
        "colab": {
          "base_uri": "https://localhost:8080/",
          "height": 85
        },
        "outputId": "4d976d4a-1887-4c31-c7f8-f3aed3f779e8"
      },
      "source": [
        "loss_base, train_accuracy_base = model_base.evaluate(train_features, train_labels, batch_size=20, verbose=1)\n",
        "loss_base, validation_accuracy_base = model_base.evaluate(validation_features, validation_labels, batch_size=20, verbose=1)\n",
        "print('Train accuracy (Base model):', train_accuracy_base)\n",
        "print('Validation accuracy (Base model):', validation_accuracy_base)"
      ],
      "execution_count": 6,
      "outputs": [
        {
          "output_type": "stream",
          "text": [
            "1889/1889 [==============================] - 2s 996us/step\n",
            "628/628 [==============================] - 0s 122us/step\n",
            "Train accuracy (Base model): 0.8840656280517578\n",
            "Validation accuracy (Base model): 0.5621019005775452\n"
          ],
          "name": "stdout"
        }
      ]
    },
    {
      "cell_type": "code",
      "metadata": {
        "id": "W67TIxrY__41",
        "colab_type": "code",
        "outputId": "b1644cd8-b62d-4f7a-844b-4474825df337",
        "colab": {
          "base_uri": "https://localhost:8080/",
          "height": 545
        }
      },
      "source": [
        "acc = history.history['acc']\n",
        "val_acc = history.history['val_acc']\n",
        "loss = history.history['loss']\n",
        "val_loss = history.history['val_loss']\n",
        "\n",
        "epochs = range(len(acc))\n",
        "\n",
        "plt.plot(epochs, acc, 'bo', label='Training acc')\n",
        "plt.plot(epochs, val_acc, 'b', label='Validation acc')\n",
        "plt.title('Training and Validation Accuracy')\n",
        "plt.legend()\n",
        "\n",
        "plt.figure()\n",
        "\n",
        "plt.plot(epochs, loss, 'bo', label='Training loss')\n",
        "plt.plot(epochs, val_loss, 'b', label='Validation loss')\n",
        "plt.title('Training and Validation loss')\n",
        "plt.legend()\n",
        "\n",
        "plt.show()"
      ],
      "execution_count": 0,
      "outputs": [
        {
          "output_type": "display_data",
          "data": {
            "image/png": "[encoded data removed]",
            "text/plain": [
              "<Figure size 432x288 with 1 Axes>"
            ]
          },
          "metadata": {
            "tags": []
          }
        },
        {
          "output_type": "display_data",
          "data": {
            "image/png": "[encoded data removed]",
            "text/plain": [
              "<Figure size 432x288 with 1 Axes>"
            ]
          },
          "metadata": {
            "tags": []
          }
        }
      ]
    },
    {
      "cell_type": "markdown",
      "metadata": {
        "id": "ELMS74Cq8DTo",
        "colab_type": "text"
      },
      "source": [
        "Highest leveling of Validation accuracy score is desired. It's expected that model will look like it overfits at higher epoch numbers. \n",
        "Deep learning neural networks are likely to quickly overfit a training dataset with few examples. Dropout offers an effective regularization method to reduce overfitting and improve generalization error in deep neural networks of all kinds."
      ]
    },
    {
      "cell_type": "markdown",
      "metadata": {
        "id": "L3cuazGd4HGq",
        "colab_type": "text"
      },
      "source": [
        "### Tuning by Adjusting Hyperparameters"
      ]
    },
    {
      "cell_type": "markdown",
      "metadata": {
        "id": "xZ5PcBujDiwK",
        "colab_type": "text"
      },
      "source": [
        "#### Dense units = 128"
      ]
    },
    {
      "cell_type": "code",
      "metadata": {
        "id": "4WwH_BQJDYnv",
        "colab_type": "code",
        "outputId": "ad645919-108d-497f-f877-47f71f65c1a9",
        "colab": {
          "base_uri": "https://localhost:8080/",
          "height": 1000
        }
      },
      "source": [
        "model = models.Sequential()\n",
        "model.add(layers.Dense(128, activation='relu', input_dim=4 * 4 * 512))\n",
        "model.add(layers.Dropout(0.50))\n",
        "model.add(layers.Dense(16, activation='softmax'))\n",
        "\n",
        "model.compile(optimizer=optimizers.RMSprop(lr=2e-5),\n",
        "              loss='categorical_crossentropy',\n",
        "              metrics=['acc'])\n",
        "\n",
        "history = model.fit(train_features, train_labels,\n",
        "                    epochs=30,\n",
        "                    batch_size=20,\n",
        "                    validation_data=(validation_features, validation_labels))"
      ],
      "execution_count": 0,
      "outputs": [
        {
          "output_type": "stream",
          "text": [
            "Train on 1889 samples, validate on 628 samples\n",
            "Epoch 1/30\n",
            "1889/1889 [==============================] - 1s 274us/step - loss: 2.9112 - acc: 0.0794 - val_loss: 2.6861 - val_acc: 0.1576\n",
            "Epoch 2/30\n",
            "1889/1889 [==============================] - 0s 221us/step - loss: 2.6851 - acc: 0.1297 - val_loss: 2.5852 - val_acc: 0.2182\n",
            "Epoch 3/30\n",
            "1889/1889 [==============================] - 0s 230us/step - loss: 2.5603 - acc: 0.1943 - val_loss: 2.5006 - val_acc: 0.2771\n",
            "Epoch 4/30\n",
            "1889/1889 [==============================] - 0s 224us/step - loss: 2.4713 - acc: 0.2250 - val_loss: 2.4249 - val_acc: 0.2882\n",
            "Epoch 5/30\n",
            "1889/1889 [==============================] - 0s 243us/step - loss: 2.3912 - acc: 0.2652 - val_loss: 2.3553 - val_acc: 0.3360\n",
            "Epoch 6/30\n",
            "1889/1889 [==============================] - 0s 223us/step - loss: 2.3039 - acc: 0.2906 - val_loss: 2.2827 - val_acc: 0.3615\n",
            "Epoch 7/30\n",
            "1889/1889 [==============================] - 0s 230us/step - loss: 2.2597 - acc: 0.3070 - val_loss: 2.2316 - val_acc: 0.3710\n",
            "Epoch 8/30\n",
            "1889/1889 [==============================] - 0s 223us/step - loss: 2.1827 - acc: 0.3489 - val_loss: 2.1739 - val_acc: 0.3838\n",
            "Epoch 9/30\n",
            "1889/1889 [==============================] - 0s 222us/step - loss: 2.1234 - acc: 0.3658 - val_loss: 2.1264 - val_acc: 0.4092\n",
            "Epoch 10/30\n",
            "1889/1889 [==============================] - 0s 219us/step - loss: 2.0542 - acc: 0.3727 - val_loss: 2.0861 - val_acc: 0.4076\n",
            "Epoch 11/30\n",
            "1889/1889 [==============================] - 0s 228us/step - loss: 2.0148 - acc: 0.3907 - val_loss: 2.0383 - val_acc: 0.4315\n",
            "Epoch 12/30\n",
            "1889/1889 [==============================] - 0s 226us/step - loss: 1.9447 - acc: 0.4272 - val_loss: 2.0025 - val_acc: 0.4395\n",
            "Epoch 13/30\n",
            "1889/1889 [==============================] - 0s 222us/step - loss: 1.8922 - acc: 0.4531 - val_loss: 1.9671 - val_acc: 0.4538\n",
            "Epoch 14/30\n",
            "1889/1889 [==============================] - 0s 221us/step - loss: 1.8613 - acc: 0.4442 - val_loss: 1.9335 - val_acc: 0.4666\n",
            "Epoch 15/30\n",
            "1889/1889 [==============================] - 0s 223us/step - loss: 1.7942 - acc: 0.4616 - val_loss: 1.9017 - val_acc: 0.4554\n",
            "Epoch 16/30\n",
            "1889/1889 [==============================] - 0s 221us/step - loss: 1.7692 - acc: 0.4611 - val_loss: 1.8763 - val_acc: 0.4745\n",
            "Epoch 17/30\n",
            "1889/1889 [==============================] - 0s 226us/step - loss: 1.7398 - acc: 0.4865 - val_loss: 1.8516 - val_acc: 0.4745\n",
            "Epoch 18/30\n",
            "1889/1889 [==============================] - 0s 218us/step - loss: 1.6720 - acc: 0.5172 - val_loss: 1.8220 - val_acc: 0.4793\n",
            "Epoch 19/30\n",
            "1889/1889 [==============================] - 0s 230us/step - loss: 1.6690 - acc: 0.5082 - val_loss: 1.8036 - val_acc: 0.4968\n",
            "Epoch 20/30\n",
            "1889/1889 [==============================] - 0s 218us/step - loss: 1.6239 - acc: 0.5161 - val_loss: 1.7876 - val_acc: 0.5016\n",
            "Epoch 21/30\n",
            "1889/1889 [==============================] - 0s 227us/step - loss: 1.5765 - acc: 0.5410 - val_loss: 1.7673 - val_acc: 0.4968\n",
            "Epoch 22/30\n",
            "1889/1889 [==============================] - 0s 224us/step - loss: 1.5309 - acc: 0.5643 - val_loss: 1.7447 - val_acc: 0.5048\n",
            "Epoch 23/30\n",
            "1889/1889 [==============================] - 0s 221us/step - loss: 1.5092 - acc: 0.5633 - val_loss: 1.7297 - val_acc: 0.5111\n",
            "Epoch 24/30\n",
            "1889/1889 [==============================] - 0s 221us/step - loss: 1.4953 - acc: 0.5511 - val_loss: 1.7192 - val_acc: 0.5111\n",
            "Epoch 25/30\n",
            "1889/1889 [==============================] - 0s 224us/step - loss: 1.4517 - acc: 0.5871 - val_loss: 1.7027 - val_acc: 0.5207\n",
            "Epoch 26/30\n",
            "1889/1889 [==============================] - 0s 224us/step - loss: 1.4220 - acc: 0.5881 - val_loss: 1.6923 - val_acc: 0.5223\n",
            "Epoch 27/30\n",
            "1889/1889 [==============================] - 0s 224us/step - loss: 1.3835 - acc: 0.6088 - val_loss: 1.6730 - val_acc: 0.5223\n",
            "Epoch 28/30\n",
            "1889/1889 [==============================] - 0s 221us/step - loss: 1.3466 - acc: 0.6173 - val_loss: 1.6619 - val_acc: 0.5239\n",
            "Epoch 29/30\n",
            "1889/1889 [==============================] - 0s 224us/step - loss: 1.3584 - acc: 0.6109 - val_loss: 1.6496 - val_acc: 0.5271\n",
            "Epoch 30/30\n",
            "1889/1889 [==============================] - 0s 213us/step - loss: 1.3125 - acc: 0.6294 - val_loss: 1.6410 - val_acc: 0.5398\n"
          ],
          "name": "stdout"
        }
      ]
    },
    {
      "cell_type": "code",
      "metadata": {
        "id": "7AEQqnkD93HL",
        "colab_type": "code",
        "colab": {}
      },
      "source": [
        "model.save(\"/content/drive/My Drive/Graffiti/artists/model_128.hdf5\")"
      ],
      "execution_count": 0,
      "outputs": []
    },
    {
      "cell_type": "code",
      "metadata": {
        "id": "7HTjFXGFJW_S",
        "colab_type": "code",
        "outputId": "8e983869-c6d9-4cb0-a49e-51561e584b3a",
        "colab": {
          "base_uri": "https://localhost:8080/",
          "height": 34
        }
      },
      "source": [
        "model_128 = load_model(\"/content/drive/My Drive/Graffiti/artists/model_128.hdf5\")\n",
        "model_128"
      ],
      "execution_count": 7,
      "outputs": [
        {
          "output_type": "execute_result",
          "data": {
            "text/plain": [
              "<keras.engine.sequential.Sequential at 0x7fc44cdcffd0>"
            ]
          },
          "metadata": {
            "tags": []
          },
          "execution_count": 7
        }
      ]
    },
    {
      "cell_type": "code",
      "metadata": {
        "id": "5a8qceQChGJe",
        "colab_type": "code",
        "outputId": "6de39810-ab12-426c-db5d-ba6db9baaa43",
        "colab": {
          "base_uri": "https://localhost:8080/",
          "height": 85
        }
      },
      "source": [
        "loss_128, train_accuracy_128 = model_128.evaluate(train_features, train_labels, batch_size=20, verbose=1)\n",
        "loss_128, validation_accuracy_128 = model_128.evaluate(validation_features, validation_labels, batch_size=20, verbose=1)\n",
        "print('Train accuracy (128 Dense Units):', train_accuracy_128)\n",
        "print('Validation accuracy (128 Dense Units):', validation_accuracy_128)"
      ],
      "execution_count": 8,
      "outputs": [
        {
          "output_type": "stream",
          "text": [
            "1889/1889 [==============================] - 0s 130us/step\n",
            "628/628 [==============================] - 0s 137us/step\n",
            "Train accuracy (128 Dense Units): 0.7818951606750488\n",
            "Validation accuracy (128 Dense Units): 0.5398089289665222\n"
          ],
          "name": "stdout"
        }
      ]
    },
    {
      "cell_type": "markdown",
      "metadata": {
        "id": "9X_b_TuBQ_BW",
        "colab_type": "text"
      },
      "source": [
        "####Dense units = 512"
      ]
    },
    {
      "cell_type": "code",
      "metadata": {
        "id": "ox2GRMD6Q-l5",
        "colab_type": "code",
        "outputId": "30c4b836-1710-495d-8c28-1c62742202a2",
        "colab": {
          "base_uri": "https://localhost:8080/",
          "height": 1000
        }
      },
      "source": [
        "model = models.Sequential()\n",
        "model.add(layers.Dense(512, activation='relu', input_dim=4 * 4 * 512))\n",
        "model.add(layers.Dropout(0.50))\n",
        "model.add(layers.Dense(16, activation='softmax'))\n",
        "\n",
        "model.compile(optimizer=optimizers.RMSprop(lr=2e-5),\n",
        "              loss='categorical_crossentropy',\n",
        "              metrics=['acc'])\n",
        "\n",
        "history = model.fit(train_features, train_labels,\n",
        "                    epochs=30,\n",
        "                    batch_size=20,\n",
        "                    validation_data=(validation_features, validation_labels))"
      ],
      "execution_count": 0,
      "outputs": [
        {
          "output_type": "stream",
          "text": [
            "Train on 1889 samples, validate on 628 samples\n",
            "Epoch 1/30\n",
            "1889/1889 [==============================] - 1s 345us/step - loss: 2.8945 - acc: 0.0985 - val_loss: 2.5398 - val_acc: 0.2022\n",
            "Epoch 2/30\n",
            "1889/1889 [==============================] - 1s 303us/step - loss: 2.5225 - acc: 0.1938 - val_loss: 2.3385 - val_acc: 0.3137\n",
            "Epoch 3/30\n",
            "1889/1889 [==============================] - 1s 292us/step - loss: 2.2725 - acc: 0.2917 - val_loss: 2.1803 - val_acc: 0.3662\n",
            "Epoch 4/30\n",
            "1889/1889 [==============================] - 1s 295us/step - loss: 2.0803 - acc: 0.3732 - val_loss: 2.0551 - val_acc: 0.4061\n",
            "Epoch 5/30\n",
            "1889/1889 [==============================] - 1s 299us/step - loss: 1.9050 - acc: 0.4304 - val_loss: 1.9667 - val_acc: 0.4045\n",
            "Epoch 6/30\n",
            "1889/1889 [==============================] - 1s 298us/step - loss: 1.7777 - acc: 0.4674 - val_loss: 1.8853 - val_acc: 0.4650\n",
            "Epoch 7/30\n",
            "1889/1889 [==============================] - 1s 293us/step - loss: 1.6794 - acc: 0.5034 - val_loss: 1.8278 - val_acc: 0.4713\n",
            "Epoch 8/30\n",
            "1889/1889 [==============================] - 1s 297us/step - loss: 1.5947 - acc: 0.5310 - val_loss: 1.7755 - val_acc: 0.4841\n",
            "Epoch 9/30\n",
            "1889/1889 [==============================] - 1s 292us/step - loss: 1.4832 - acc: 0.5633 - val_loss: 1.7288 - val_acc: 0.4904\n",
            "Epoch 10/30\n",
            "1889/1889 [==============================] - 1s 290us/step - loss: 1.4217 - acc: 0.5850 - val_loss: 1.7011 - val_acc: 0.5016\n",
            "Epoch 11/30\n",
            "1889/1889 [==============================] - 1s 293us/step - loss: 1.3394 - acc: 0.6083 - val_loss: 1.6684 - val_acc: 0.4984\n",
            "Epoch 12/30\n",
            "1889/1889 [==============================] - 1s 293us/step - loss: 1.3061 - acc: 0.6162 - val_loss: 1.6340 - val_acc: 0.5223\n",
            "Epoch 13/30\n",
            "1889/1889 [==============================] - 1s 301us/step - loss: 1.2382 - acc: 0.6400 - val_loss: 1.6036 - val_acc: 0.5462\n",
            "Epoch 14/30\n",
            "1889/1889 [==============================] - 1s 296us/step - loss: 1.1766 - acc: 0.6638 - val_loss: 1.5835 - val_acc: 0.5430\n",
            "Epoch 15/30\n",
            "1889/1889 [==============================] - 1s 292us/step - loss: 1.1298 - acc: 0.6792 - val_loss: 1.5610 - val_acc: 0.5414\n",
            "Epoch 16/30\n",
            "1889/1889 [==============================] - 1s 302us/step - loss: 1.0771 - acc: 0.7073 - val_loss: 1.5553 - val_acc: 0.5271\n",
            "Epoch 17/30\n",
            "1889/1889 [==============================] - 1s 299us/step - loss: 1.0377 - acc: 0.7088 - val_loss: 1.5410 - val_acc: 0.5430\n",
            "Epoch 18/30\n",
            "1889/1889 [==============================] - 1s 288us/step - loss: 0.9771 - acc: 0.7268 - val_loss: 1.5187 - val_acc: 0.5494\n",
            "Epoch 19/30\n",
            "1889/1889 [==============================] - 1s 294us/step - loss: 0.9385 - acc: 0.7454 - val_loss: 1.5097 - val_acc: 0.5414\n",
            "Epoch 20/30\n",
            "1889/1889 [==============================] - 1s 287us/step - loss: 0.9189 - acc: 0.7538 - val_loss: 1.4896 - val_acc: 0.5589\n",
            "Epoch 21/30\n",
            "1889/1889 [==============================] - 1s 291us/step - loss: 0.8590 - acc: 0.7708 - val_loss: 1.4808 - val_acc: 0.5557\n",
            "Epoch 22/30\n",
            "1889/1889 [==============================] - 1s 291us/step - loss: 0.8368 - acc: 0.7665 - val_loss: 1.4639 - val_acc: 0.5605\n",
            "Epoch 23/30\n",
            "1889/1889 [==============================] - 1s 291us/step - loss: 0.7997 - acc: 0.7882 - val_loss: 1.4605 - val_acc: 0.5653\n",
            "Epoch 24/30\n",
            "1889/1889 [==============================] - 1s 290us/step - loss: 0.7567 - acc: 0.8057 - val_loss: 1.4439 - val_acc: 0.5637\n",
            "Epoch 25/30\n",
            "1889/1889 [==============================] - 1s 291us/step - loss: 0.7368 - acc: 0.8174 - val_loss: 1.4384 - val_acc: 0.5653\n",
            "Epoch 26/30\n",
            "1889/1889 [==============================] - 1s 295us/step - loss: 0.6937 - acc: 0.8359 - val_loss: 1.4346 - val_acc: 0.5541\n",
            "Epoch 27/30\n",
            "1889/1889 [==============================] - 1s 297us/step - loss: 0.6563 - acc: 0.8370 - val_loss: 1.4311 - val_acc: 0.5669\n",
            "Epoch 28/30\n",
            "1889/1889 [==============================] - 1s 300us/step - loss: 0.6290 - acc: 0.8507 - val_loss: 1.4280 - val_acc: 0.5494\n",
            "Epoch 29/30\n",
            "1889/1889 [==============================] - 1s 294us/step - loss: 0.6064 - acc: 0.8634 - val_loss: 1.4165 - val_acc: 0.5621\n",
            "Epoch 30/30\n",
            "1889/1889 [==============================] - 1s 301us/step - loss: 0.5775 - acc: 0.8666 - val_loss: 1.4132 - val_acc: 0.5605\n"
          ],
          "name": "stdout"
        }
      ]
    },
    {
      "cell_type": "code",
      "metadata": {
        "id": "h8fC-h8sQ-fK",
        "colab_type": "code",
        "colab": {}
      },
      "source": [
        "model.save(\"/content/drive/My Drive/Graffiti/artists/model_512.hdf5\")"
      ],
      "execution_count": 0,
      "outputs": []
    },
    {
      "cell_type": "code",
      "metadata": {
        "id": "71xVjGGCQ-cc",
        "colab_type": "code",
        "outputId": "74234ffc-c3ba-493b-9a07-49ade15fadd5",
        "colab": {
          "base_uri": "https://localhost:8080/",
          "height": 34
        }
      },
      "source": [
        "model_512 = load_model(\"/content/drive/My Drive/Graffiti/artists/model_512.hdf5\")\n",
        "model_512"
      ],
      "execution_count": 9,
      "outputs": [
        {
          "output_type": "execute_result",
          "data": {
            "text/plain": [
              "<keras.engine.sequential.Sequential at 0x7fc44c539828>"
            ]
          },
          "metadata": {
            "tags": []
          },
          "execution_count": 9
        }
      ]
    },
    {
      "cell_type": "code",
      "metadata": {
        "id": "eLp_7nGGQ-aJ",
        "colab_type": "code",
        "outputId": "b300449d-5ae5-458f-a259-a30ef8e23bbf",
        "colab": {
          "base_uri": "https://localhost:8080/",
          "height": 85
        }
      },
      "source": [
        "loss_512, train_accuracy_512 = model_512.evaluate(train_features, train_labels, batch_size=20, verbose=1)\n",
        "loss_512, validation_accuracy_512 = model_512.evaluate(validation_features, validation_labels, batch_size=20, verbose=1)\n",
        "print('Train accuracy (512 Dense Units):', train_accuracy_512)\n",
        "print('Validation accuracy (512 Dense Units):', validation_accuracy_512)"
      ],
      "execution_count": 10,
      "outputs": [
        {
          "output_type": "stream",
          "text": [
            "1889/1889 [==============================] - 0s 136us/step\n",
            "628/628 [==============================] - 0s 125us/step\n",
            "Train accuracy (512 Dense Units): 0.9412387609481812\n",
            "Validation accuracy (512 Dense Units): 0.5605095624923706\n"
          ],
          "name": "stdout"
        }
      ]
    },
    {
      "cell_type": "code",
      "metadata": {
        "id": "1bLzFEMlQ-XF",
        "colab_type": "code",
        "outputId": "156c081e-9e58-4815-f8e0-4f2cd2417aa8",
        "colab": {
          "base_uri": "https://localhost:8080/",
          "height": 545
        }
      },
      "source": [
        "acc = history.history['acc']\n",
        "val_acc = history.history['val_acc']\n",
        "loss = history.history['loss']\n",
        "val_loss = history.history['val_loss']\n",
        "\n",
        "epochs = range(len(acc))\n",
        "\n",
        "plt.plot(epochs, acc, 'bo', label='Training acc')\n",
        "plt.plot(epochs, val_acc, 'b', label='Validation acc')\n",
        "plt.title('Training and Validation Accuracy')\n",
        "plt.legend()\n",
        "\n",
        "plt.figure()\n",
        "\n",
        "plt.plot(epochs, loss, 'bo', label='Training loss')\n",
        "plt.plot(epochs, val_loss, 'b', label='Validation loss')\n",
        "plt.title('Training and Validation loss')\n",
        "plt.legend()\n",
        "\n",
        "plt.show()"
      ],
      "execution_count": 0,
      "outputs": [
        {
          "output_type": "display_data",
          "data": {
            "image/png": "[encoded data removed]",
            "text/plain": [
              "<Figure size 432x288 with 1 Axes>"
            ]
          },
          "metadata": {
            "tags": [],
            "needs_background": "light"
          }
        },
        {
          "output_type": "display_data",
          "data": {
            "image/png": "[encoded data removed]",
            "text/plain": [
              "<Figure size 432x288 with 1 Axes>"
            ]
          },
          "metadata": {
            "tags": [],
            "needs_background": "light"
          }
        }
      ]
    },
    {
      "cell_type": "markdown",
      "metadata": {
        "id": "Nt5CnEdDUb-u",
        "colab_type": "text"
      },
      "source": [
        "####Dropout = 0.25"
      ]
    },
    {
      "cell_type": "markdown",
      "metadata": {
        "id": "jZ8n9ak38fKf",
        "colab_type": "text"
      },
      "source": [
        "A regularization technique for neural networks and deep learning models is dropout.\n",
        "Generally, use a small dropout value of 20%-50% of neurons with 20% providing a good starting point. A probability too low has minimal effect and a value too high results in under-learning by the network."
      ]
    },
    {
      "cell_type": "code",
      "metadata": {
        "id": "gqkzuN5hUbwE",
        "colab_type": "code",
        "outputId": "fe42c8ae-8ecf-42e8-c880-138a65cf8d87",
        "colab": {
          "base_uri": "https://localhost:8080/",
          "height": 1000
        }
      },
      "source": [
        "model = models.Sequential()\n",
        "model.add(layers.Dense(256, activation='relu', input_dim=4 * 4 * 512))\n",
        "model.add(layers.Dropout(0.25))\n",
        "model.add(layers.Dense(16, activation='softmax'))\n",
        "\n",
        "model.compile(optimizer=optimizers.RMSprop(lr=2e-5),\n",
        "              loss='categorical_crossentropy',\n",
        "              metrics=['acc'])\n",
        "\n",
        "history = model.fit(train_features, train_labels,\n",
        "                    epochs=30,\n",
        "                    batch_size=20,\n",
        "                    validation_data=(validation_features, validation_labels))"
      ],
      "execution_count": 0,
      "outputs": [
        {
          "output_type": "stream",
          "text": [
            "Train on 1889 samples, validate on 628 samples\n",
            "Epoch 1/30\n",
            "1889/1889 [==============================] - 1s 305us/step - loss: 2.7562 - acc: 0.1212 - val_loss: 2.5544 - val_acc: 0.2166\n",
            "Epoch 2/30\n",
            "1889/1889 [==============================] - 0s 255us/step - loss: 2.4570 - acc: 0.2372 - val_loss: 2.3683 - val_acc: 0.3217\n",
            "Epoch 3/30\n",
            "1889/1889 [==============================] - 0s 261us/step - loss: 2.2346 - acc: 0.3515 - val_loss: 2.2070 - val_acc: 0.3710\n",
            "Epoch 4/30\n",
            "1889/1889 [==============================] - 0s 249us/step - loss: 2.0514 - acc: 0.4156 - val_loss: 2.0741 - val_acc: 0.4076\n",
            "Epoch 5/30\n",
            "1889/1889 [==============================] - 0s 262us/step - loss: 1.8756 - acc: 0.4701 - val_loss: 1.9772 - val_acc: 0.4315\n",
            "Epoch 6/30\n",
            "1889/1889 [==============================] - 0s 261us/step - loss: 1.7590 - acc: 0.4950 - val_loss: 1.8985 - val_acc: 0.4475\n",
            "Epoch 7/30\n",
            "1889/1889 [==============================] - 0s 258us/step - loss: 1.6141 - acc: 0.5521 - val_loss: 1.8375 - val_acc: 0.4697\n",
            "Epoch 8/30\n",
            "1889/1889 [==============================] - 0s 252us/step - loss: 1.5313 - acc: 0.5733 - val_loss: 1.7823 - val_acc: 0.4793\n",
            "Epoch 9/30\n",
            "1889/1889 [==============================] - 0s 263us/step - loss: 1.4522 - acc: 0.5982 - val_loss: 1.7332 - val_acc: 0.4968\n",
            "Epoch 10/30\n",
            "1889/1889 [==============================] - 0s 249us/step - loss: 1.3726 - acc: 0.6236 - val_loss: 1.7025 - val_acc: 0.5048\n",
            "Epoch 11/30\n",
            "1889/1889 [==============================] - 0s 262us/step - loss: 1.3063 - acc: 0.6353 - val_loss: 1.6718 - val_acc: 0.4857\n",
            "Epoch 12/30\n",
            "1889/1889 [==============================] - 0s 250us/step - loss: 1.2479 - acc: 0.6511 - val_loss: 1.6385 - val_acc: 0.5271\n",
            "Epoch 13/30\n",
            "1889/1889 [==============================] - 0s 253us/step - loss: 1.1844 - acc: 0.6850 - val_loss: 1.6121 - val_acc: 0.5398\n",
            "Epoch 14/30\n",
            "1889/1889 [==============================] - 0s 253us/step - loss: 1.1345 - acc: 0.7046 - val_loss: 1.6038 - val_acc: 0.5207\n",
            "Epoch 15/30\n",
            "1889/1889 [==============================] - 0s 258us/step - loss: 1.0808 - acc: 0.7147 - val_loss: 1.5841 - val_acc: 0.5303\n",
            "Epoch 16/30\n",
            "1889/1889 [==============================] - 0s 252us/step - loss: 1.0339 - acc: 0.7390 - val_loss: 1.5571 - val_acc: 0.5366\n",
            "Epoch 17/30\n",
            "1889/1889 [==============================] - 0s 253us/step - loss: 0.9869 - acc: 0.7422 - val_loss: 1.5509 - val_acc: 0.5478\n",
            "Epoch 18/30\n",
            "1889/1889 [==============================] - 0s 256us/step - loss: 0.9560 - acc: 0.7544 - val_loss: 1.5268 - val_acc: 0.5525\n",
            "Epoch 19/30\n",
            "1889/1889 [==============================] - 0s 250us/step - loss: 0.9069 - acc: 0.7702 - val_loss: 1.5173 - val_acc: 0.5605\n",
            "Epoch 20/30\n",
            "1889/1889 [==============================] - 1s 270us/step - loss: 0.8716 - acc: 0.7782 - val_loss: 1.5031 - val_acc: 0.5557\n",
            "Epoch 21/30\n",
            "1889/1889 [==============================] - 0s 256us/step - loss: 0.8233 - acc: 0.7978 - val_loss: 1.5007 - val_acc: 0.5494\n",
            "Epoch 22/30\n",
            "1889/1889 [==============================] - 0s 256us/step - loss: 0.7941 - acc: 0.8184 - val_loss: 1.4880 - val_acc: 0.5573\n",
            "Epoch 23/30\n",
            "1889/1889 [==============================] - 0s 248us/step - loss: 0.7449 - acc: 0.8269 - val_loss: 1.4675 - val_acc: 0.5589\n",
            "Epoch 24/30\n",
            "1889/1889 [==============================] - 0s 261us/step - loss: 0.7304 - acc: 0.8290 - val_loss: 1.4629 - val_acc: 0.5653\n",
            "Epoch 25/30\n",
            "1889/1889 [==============================] - 0s 249us/step - loss: 0.6919 - acc: 0.8475 - val_loss: 1.4582 - val_acc: 0.5573\n",
            "Epoch 26/30\n",
            "1889/1889 [==============================] - 0s 254us/step - loss: 0.6585 - acc: 0.8634 - val_loss: 1.4536 - val_acc: 0.5573\n",
            "Epoch 27/30\n",
            "1889/1889 [==============================] - 0s 255us/step - loss: 0.6382 - acc: 0.8613 - val_loss: 1.4433 - val_acc: 0.5557\n",
            "Epoch 28/30\n",
            "1889/1889 [==============================] - 0s 260us/step - loss: 0.6132 - acc: 0.8729 - val_loss: 1.4319 - val_acc: 0.5685\n",
            "Epoch 29/30\n",
            "1889/1889 [==============================] - 0s 251us/step - loss: 0.5800 - acc: 0.8809 - val_loss: 1.4279 - val_acc: 0.5685\n",
            "Epoch 30/30\n",
            "1889/1889 [==============================] - 0s 265us/step - loss: 0.5624 - acc: 0.8883 - val_loss: 1.4293 - val_acc: 0.5573\n"
          ],
          "name": "stdout"
        }
      ]
    },
    {
      "cell_type": "code",
      "metadata": {
        "id": "2B7eVGJbUbs6",
        "colab_type": "code",
        "colab": {}
      },
      "source": [
        "model.save(\"/content/drive/My Drive/Graffiti/artists/model_dropout_25.hdf5\")"
      ],
      "execution_count": 0,
      "outputs": []
    },
    {
      "cell_type": "code",
      "metadata": {
        "id": "3Cm_z8sQUbqM",
        "colab_type": "code",
        "outputId": "e6a5bbb8-692c-4164-8db5-52b010fe26c9",
        "colab": {
          "base_uri": "https://localhost:8080/",
          "height": 34
        }
      },
      "source": [
        "model_dropout_25 = load_model(\"/content/drive/My Drive/Graffiti/artists/model_dropout_25.hdf5\")\n",
        "model_dropout_25"
      ],
      "execution_count": 11,
      "outputs": [
        {
          "output_type": "execute_result",
          "data": {
            "text/plain": [
              "<keras.engine.sequential.Sequential at 0x7fc44c5399e8>"
            ]
          },
          "metadata": {
            "tags": []
          },
          "execution_count": 11
        }
      ]
    },
    {
      "cell_type": "code",
      "metadata": {
        "id": "amYXvyzgUbne",
        "colab_type": "code",
        "outputId": "21814a89-345c-47bc-ed64-88411d535aec",
        "colab": {
          "base_uri": "https://localhost:8080/",
          "height": 85
        }
      },
      "source": [
        "loss_dropout_25, train_accuracy_dropout_25 = model_dropout_25.evaluate(train_features, train_labels, batch_size=20, verbose=1)\n",
        "loss_dropout_25, validation_accuracy_dropout_25 = model_dropout_25.evaluate(validation_features, validation_labels, batch_size=20, verbose=1)\n",
        "print('Train accuracy (0.25 Dropout):', train_accuracy_dropout_25)\n",
        "print('Validation accuracy (0.25 Dropout):', validation_accuracy_dropout_25)"
      ],
      "execution_count": 12,
      "outputs": [
        {
          "output_type": "stream",
          "text": [
            "1889/1889 [==============================] - 0s 134us/step\n",
            "628/628 [==============================] - 0s 129us/step\n",
            "Train accuracy (0.25 Dropout): 0.9391212463378906\n",
            "Validation accuracy (0.25 Dropout): 0.5573248267173767\n"
          ],
          "name": "stdout"
        }
      ]
    },
    {
      "cell_type": "markdown",
      "metadata": {
        "id": "2HiLX9dOKfQu",
        "colab_type": "text"
      },
      "source": [
        "With a lower dropout probability of 0.25 compared to base model of 0.50, this results in more overfitting of training dataset."
      ]
    },
    {
      "cell_type": "markdown",
      "metadata": {
        "id": "zh7byPgXCWu1",
        "colab_type": "text"
      },
      "source": [
        "####Dropout = 0.65"
      ]
    },
    {
      "cell_type": "code",
      "metadata": {
        "id": "iQjbMJg1CU2B",
        "colab_type": "code",
        "outputId": "0c3b3e32-d64a-4dbe-f456-4b82403233fb",
        "colab": {
          "base_uri": "https://localhost:8080/",
          "height": 1000
        }
      },
      "source": [
        "model = models.Sequential()\n",
        "model.add(layers.Dense(256, activation='relu', input_dim=4 * 4 * 512))\n",
        "model.add(layers.Dropout(0.65))\n",
        "model.add(layers.Dense(16, activation='softmax'))\n",
        "\n",
        "model.compile(optimizer=optimizers.RMSprop(lr=2e-5),\n",
        "              loss='categorical_crossentropy',\n",
        "              metrics=['acc'])\n",
        "\n",
        "history = model.fit(train_features, train_labels,\n",
        "                    epochs=30,\n",
        "                    batch_size=20,\n",
        "                    validation_data=(validation_features, validation_labels))"
      ],
      "execution_count": 0,
      "outputs": [
        {
          "output_type": "stream",
          "text": [
            "Train on 1889 samples, validate on 628 samples\n",
            "Epoch 1/30\n",
            "1889/1889 [==============================] - 0s 245us/step - loss: 3.0729 - acc: 0.0720 - val_loss: 2.6510 - val_acc: 0.1640\n",
            "Epoch 2/30\n",
            "1889/1889 [==============================] - 0s 216us/step - loss: 2.7277 - acc: 0.1292 - val_loss: 2.5516 - val_acc: 0.2229\n",
            "Epoch 3/30\n",
            "1889/1889 [==============================] - 0s 211us/step - loss: 2.5784 - acc: 0.1837 - val_loss: 2.4710 - val_acc: 0.2723\n",
            "Epoch 4/30\n",
            "1889/1889 [==============================] - 0s 210us/step - loss: 2.4630 - acc: 0.2356 - val_loss: 2.3882 - val_acc: 0.3153\n",
            "Epoch 5/30\n",
            "1889/1889 [==============================] - 0s 217us/step - loss: 2.3882 - acc: 0.2684 - val_loss: 2.3074 - val_acc: 0.3487\n",
            "Epoch 6/30\n",
            "1889/1889 [==============================] - 0s 202us/step - loss: 2.2811 - acc: 0.3044 - val_loss: 2.2317 - val_acc: 0.3678\n",
            "Epoch 7/30\n",
            "1889/1889 [==============================] - 0s 209us/step - loss: 2.2094 - acc: 0.3208 - val_loss: 2.1593 - val_acc: 0.3838\n",
            "Epoch 8/30\n",
            "1889/1889 [==============================] - 0s 205us/step - loss: 2.1240 - acc: 0.3504 - val_loss: 2.1059 - val_acc: 0.3965\n",
            "Epoch 9/30\n",
            "1889/1889 [==============================] - 0s 205us/step - loss: 2.0314 - acc: 0.3759 - val_loss: 2.0532 - val_acc: 0.4172\n",
            "Epoch 10/30\n",
            "1889/1889 [==============================] - 0s 213us/step - loss: 1.9681 - acc: 0.4066 - val_loss: 2.0097 - val_acc: 0.4331\n",
            "Epoch 11/30\n",
            "1889/1889 [==============================] - 0s 206us/step - loss: 1.9308 - acc: 0.4177 - val_loss: 1.9728 - val_acc: 0.4443\n",
            "Epoch 12/30\n",
            "1889/1889 [==============================] - 0s 215us/step - loss: 1.8664 - acc: 0.4320 - val_loss: 1.9272 - val_acc: 0.4490\n",
            "Epoch 13/30\n",
            "1889/1889 [==============================] - 0s 218us/step - loss: 1.8123 - acc: 0.4542 - val_loss: 1.9003 - val_acc: 0.4682\n",
            "Epoch 14/30\n",
            "1889/1889 [==============================] - 0s 203us/step - loss: 1.7522 - acc: 0.4690 - val_loss: 1.8620 - val_acc: 0.4634\n",
            "Epoch 15/30\n",
            "1889/1889 [==============================] - 0s 208us/step - loss: 1.7257 - acc: 0.4701 - val_loss: 1.8381 - val_acc: 0.4682\n",
            "Epoch 16/30\n",
            "1889/1889 [==============================] - 0s 209us/step - loss: 1.6774 - acc: 0.4944 - val_loss: 1.8128 - val_acc: 0.4713\n",
            "Epoch 17/30\n",
            "1889/1889 [==============================] - 0s 210us/step - loss: 1.6398 - acc: 0.5130 - val_loss: 1.7895 - val_acc: 0.4984\n",
            "Epoch 18/30\n",
            "1889/1889 [==============================] - 0s 211us/step - loss: 1.5969 - acc: 0.5220 - val_loss: 1.7684 - val_acc: 0.4968\n",
            "Epoch 19/30\n",
            "1889/1889 [==============================] - 0s 201us/step - loss: 1.5543 - acc: 0.5416 - val_loss: 1.7449 - val_acc: 0.4968\n",
            "Epoch 20/30\n",
            "1889/1889 [==============================] - 0s 215us/step - loss: 1.5114 - acc: 0.5543 - val_loss: 1.7258 - val_acc: 0.4952\n",
            "Epoch 21/30\n",
            "1889/1889 [==============================] - 0s 210us/step - loss: 1.4675 - acc: 0.5606 - val_loss: 1.7070 - val_acc: 0.5096\n",
            "Epoch 22/30\n",
            "1889/1889 [==============================] - 0s 213us/step - loss: 1.4570 - acc: 0.5754 - val_loss: 1.6957 - val_acc: 0.5048\n",
            "Epoch 23/30\n",
            "1889/1889 [==============================] - 0s 208us/step - loss: 1.4093 - acc: 0.5844 - val_loss: 1.6765 - val_acc: 0.5175\n",
            "Epoch 24/30\n",
            "1889/1889 [==============================] - 0s 207us/step - loss: 1.3874 - acc: 0.5781 - val_loss: 1.6648 - val_acc: 0.5080\n",
            "Epoch 25/30\n",
            "1889/1889 [==============================] - 0s 210us/step - loss: 1.3538 - acc: 0.6093 - val_loss: 1.6463 - val_acc: 0.5175\n",
            "Epoch 26/30\n",
            "1889/1889 [==============================] - 0s 206us/step - loss: 1.3200 - acc: 0.6088 - val_loss: 1.6430 - val_acc: 0.5191\n",
            "Epoch 27/30\n",
            "1889/1889 [==============================] - 0s 205us/step - loss: 1.2947 - acc: 0.6273 - val_loss: 1.6229 - val_acc: 0.5207\n",
            "Epoch 28/30\n",
            "1889/1889 [==============================] - 0s 213us/step - loss: 1.2742 - acc: 0.6252 - val_loss: 1.6105 - val_acc: 0.5255\n",
            "Epoch 29/30\n",
            "1889/1889 [==============================] - 0s 204us/step - loss: 1.2475 - acc: 0.6379 - val_loss: 1.6020 - val_acc: 0.5255\n",
            "Epoch 30/30\n",
            "1889/1889 [==============================] - 0s 214us/step - loss: 1.2131 - acc: 0.6559 - val_loss: 1.5917 - val_acc: 0.5334\n"
          ],
          "name": "stdout"
        }
      ]
    },
    {
      "cell_type": "code",
      "metadata": {
        "id": "zWa347WOgnfp",
        "colab_type": "code",
        "colab": {}
      },
      "source": [
        "model.save(\"/content/drive/My Drive/Graffiti/artists/model_dropout_65.hdf5\")"
      ],
      "execution_count": 0,
      "outputs": []
    },
    {
      "cell_type": "code",
      "metadata": {
        "id": "Xc5MQVN1gsJM",
        "colab_type": "code",
        "outputId": "f18329b0-f9f2-42b4-b521-dc34585e5700",
        "colab": {
          "base_uri": "https://localhost:8080/",
          "height": 34
        }
      },
      "source": [
        "model_dropout_65 = load_model(\"/content/drive/My Drive/Graffiti/artists/model_dropout_65.hdf5\")\n",
        "model_dropout_65"
      ],
      "execution_count": 13,
      "outputs": [
        {
          "output_type": "execute_result",
          "data": {
            "text/plain": [
              "<keras.engine.sequential.Sequential at 0x7fc3a414cf98>"
            ]
          },
          "metadata": {
            "tags": []
          },
          "execution_count": 13
        }
      ]
    },
    {
      "cell_type": "code",
      "metadata": {
        "id": "h1bbeGQLCla6",
        "colab_type": "code",
        "outputId": "6006bb2d-f724-4b92-d4ca-37dabb315614",
        "colab": {
          "base_uri": "https://localhost:8080/",
          "height": 85
        }
      },
      "source": [
        "loss_dropout_65, train_accuracy_dropout_65 = model_dropout_65.evaluate(train_features, train_labels, batch_size=20, verbose=1)\n",
        "loss_dropout_65, validation_accuracy_dropout_65 = model_dropout_65.evaluate(validation_features, validation_labels, batch_size=20, verbose=1)\n",
        "print('Train accuracy (0.65 Dropout):', train_accuracy_dropout_65)\n",
        "print('Validation accuracy (0.65 Dropout):', validation_accuracy_dropout_65)"
      ],
      "execution_count": 14,
      "outputs": [
        {
          "output_type": "stream",
          "text": [
            "1889/1889 [==============================] - 0s 138us/step\n",
            "628/628 [==============================] - 0s 127us/step\n",
            "Train accuracy (0.65 Dropout): 0.8073054552078247\n",
            "Validation accuracy (0.65 Dropout): 0.5334395170211792\n"
          ],
          "name": "stdout"
        }
      ]
    },
    {
      "cell_type": "code",
      "metadata": {
        "id": "yEYKzEf8DYVk",
        "colab_type": "code",
        "outputId": "9c53d82b-2f4b-48b5-8801-40d03556bdb5",
        "colab": {
          "base_uri": "https://localhost:8080/",
          "height": 543
        }
      },
      "source": [
        "acc = history.history['acc']\n",
        "val_acc = history.history['val_acc']\n",
        "loss = history.history['loss']\n",
        "val_loss = history.history['val_loss']\n",
        "\n",
        "epochs = range(len(acc))\n",
        "\n",
        "plt.plot(epochs, acc, 'bo', label='Training acc')\n",
        "plt.plot(epochs, val_acc, 'b', label='Validation acc')\n",
        "plt.title('Training and Validation Accuracy')\n",
        "plt.legend()\n",
        "\n",
        "plt.figure()\n",
        "\n",
        "plt.plot(epochs, loss, 'bo', label='Training loss')\n",
        "plt.plot(epochs, val_loss, 'b', label='Validation loss')\n",
        "plt.title('Training and Validation loss')\n",
        "plt.legend()\n",
        "\n",
        "plt.show()"
      ],
      "execution_count": 0,
      "outputs": [
        {
          "output_type": "display_data",
          "data": {
            "image/png": "[encoded data removed]",
            "text/plain": [
              "<Figure size 432x288 with 1 Axes>"
            ]
          },
          "metadata": {
            "tags": [],
            "image/png": {
              "width": 373,
              "height": 263
            },
            "needs_background": "light"
          }
        },
        {
          "output_type": "display_data",
          "data": {
            "image/png": "[encoded data removed]",
            "text/plain": [
              "<Figure size 432x288 with 1 Axes>"
            ]
          },
          "metadata": {
            "tags": [],
            "image/png": {
              "width": 380,
              "height": 263
            },
            "needs_background": "light"
          }
        }
      ]
    },
    {
      "cell_type": "markdown",
      "metadata": {
        "id": "xkkPsthfTx6t",
        "colab_type": "text"
      },
      "source": [
        "#### Optimizer Adam"
      ]
    },
    {
      "cell_type": "code",
      "metadata": {
        "id": "yOqFrfJRTn1R",
        "colab_type": "code",
        "outputId": "5d63f5ba-da81-4956-8599-ec1e5c23fe69",
        "colab": {
          "base_uri": "https://localhost:8080/",
          "height": 1000
        }
      },
      "source": [
        "model = models.Sequential()\n",
        "model.add(layers.Dense(256, activation='relu', input_dim=4 * 4 * 512))\n",
        "model.add(layers.Dropout(0.50))\n",
        "model.add(layers.Dense(16, activation='softmax'))\n",
        "\n",
        "model.compile(optimizer=optimizers.Adam(lr=2e-5),\n",
        "              loss='categorical_crossentropy',\n",
        "              metrics=['acc'])\n",
        "\n",
        "history = model.fit(train_features, train_labels,\n",
        "                    epochs=30,\n",
        "                    batch_size=20,\n",
        "                    validation_data=(validation_features, validation_labels))"
      ],
      "execution_count": 0,
      "outputs": [
        {
          "output_type": "stream",
          "text": [
            "Train on 1889 samples, validate on 628 samples\n",
            "Epoch 1/30\n",
            "1889/1889 [==============================] - 1s 265us/step - loss: 2.9463 - acc: 0.0916 - val_loss: 2.6452 - val_acc: 0.1592\n",
            "Epoch 2/30\n",
            "1889/1889 [==============================] - 0s 227us/step - loss: 2.6387 - acc: 0.1673 - val_loss: 2.4913 - val_acc: 0.2596\n",
            "Epoch 3/30\n",
            "1889/1889 [==============================] - 0s 226us/step - loss: 2.4183 - acc: 0.2356 - val_loss: 2.3603 - val_acc: 0.3217\n",
            "Epoch 4/30\n",
            "1889/1889 [==============================] - 0s 228us/step - loss: 2.2898 - acc: 0.3033 - val_loss: 2.2555 - val_acc: 0.3758\n",
            "Epoch 5/30\n",
            "1889/1889 [==============================] - 0s 218us/step - loss: 2.1232 - acc: 0.3764 - val_loss: 2.1524 - val_acc: 0.4076\n",
            "Epoch 6/30\n",
            "1889/1889 [==============================] - 0s 217us/step - loss: 1.9902 - acc: 0.4182 - val_loss: 2.0634 - val_acc: 0.4220\n",
            "Epoch 7/30\n",
            "1889/1889 [==============================] - 0s 225us/step - loss: 1.8679 - acc: 0.4621 - val_loss: 1.9886 - val_acc: 0.4283\n",
            "Epoch 8/30\n",
            "1889/1889 [==============================] - 0s 219us/step - loss: 1.7883 - acc: 0.4828 - val_loss: 1.9333 - val_acc: 0.4538\n",
            "Epoch 9/30\n",
            "1889/1889 [==============================] - 0s 225us/step - loss: 1.7033 - acc: 0.5040 - val_loss: 1.8776 - val_acc: 0.4713\n",
            "Epoch 10/30\n",
            "1889/1889 [==============================] - 0s 221us/step - loss: 1.6164 - acc: 0.5405 - val_loss: 1.8362 - val_acc: 0.4729\n",
            "Epoch 11/30\n",
            "1889/1889 [==============================] - 0s 214us/step - loss: 1.5513 - acc: 0.5643 - val_loss: 1.8020 - val_acc: 0.4936\n",
            "Epoch 12/30\n",
            "1889/1889 [==============================] - 0s 228us/step - loss: 1.4905 - acc: 0.5670 - val_loss: 1.7681 - val_acc: 0.4952\n",
            "Epoch 13/30\n",
            "1889/1889 [==============================] - 0s 218us/step - loss: 1.4447 - acc: 0.5950 - val_loss: 1.7402 - val_acc: 0.5080\n",
            "Epoch 14/30\n",
            "1889/1889 [==============================] - 0s 226us/step - loss: 1.3784 - acc: 0.6024 - val_loss: 1.7114 - val_acc: 0.5191\n",
            "Epoch 15/30\n",
            "1889/1889 [==============================] - 0s 214us/step - loss: 1.3094 - acc: 0.6363 - val_loss: 1.6863 - val_acc: 0.5207\n",
            "Epoch 16/30\n",
            "1889/1889 [==============================] - 0s 225us/step - loss: 1.2558 - acc: 0.6543 - val_loss: 1.6608 - val_acc: 0.5191\n",
            "Epoch 17/30\n",
            "1889/1889 [==============================] - 0s 219us/step - loss: 1.2113 - acc: 0.6739 - val_loss: 1.6395 - val_acc: 0.5271\n",
            "Epoch 18/30\n",
            "1889/1889 [==============================] - 0s 213us/step - loss: 1.1819 - acc: 0.6845 - val_loss: 1.6287 - val_acc: 0.5239\n",
            "Epoch 19/30\n",
            "1889/1889 [==============================] - 0s 232us/step - loss: 1.1323 - acc: 0.6924 - val_loss: 1.6123 - val_acc: 0.5287\n",
            "Epoch 20/30\n",
            "1889/1889 [==============================] - 0s 219us/step - loss: 1.0916 - acc: 0.6988 - val_loss: 1.5896 - val_acc: 0.5430\n",
            "Epoch 21/30\n",
            "1889/1889 [==============================] - 0s 224us/step - loss: 1.0531 - acc: 0.7163 - val_loss: 1.5776 - val_acc: 0.5430\n",
            "Epoch 22/30\n",
            "1889/1889 [==============================] - 0s 223us/step - loss: 1.0106 - acc: 0.7374 - val_loss: 1.5671 - val_acc: 0.5462\n",
            "Epoch 23/30\n",
            "1889/1889 [==============================] - 0s 217us/step - loss: 0.9918 - acc: 0.7427 - val_loss: 1.5515 - val_acc: 0.5446\n",
            "Epoch 24/30\n",
            "1889/1889 [==============================] - 0s 228us/step - loss: 0.9362 - acc: 0.7665 - val_loss: 1.5403 - val_acc: 0.5525\n",
            "Epoch 25/30\n",
            "1889/1889 [==============================] - 0s 216us/step - loss: 0.9266 - acc: 0.7687 - val_loss: 1.5281 - val_acc: 0.5494\n",
            "Epoch 26/30\n",
            "1889/1889 [==============================] - 0s 222us/step - loss: 0.8799 - acc: 0.7856 - val_loss: 1.5179 - val_acc: 0.5621\n",
            "Epoch 27/30\n",
            "1889/1889 [==============================] - 0s 218us/step - loss: 0.8696 - acc: 0.7755 - val_loss: 1.5084 - val_acc: 0.5637\n",
            "Epoch 28/30\n",
            "1889/1889 [==============================] - 0s 216us/step - loss: 0.8214 - acc: 0.8110 - val_loss: 1.4987 - val_acc: 0.5701\n",
            "Epoch 29/30\n",
            "1889/1889 [==============================] - 0s 226us/step - loss: 0.7947 - acc: 0.8078 - val_loss: 1.4927 - val_acc: 0.5621\n",
            "Epoch 30/30\n",
            "1889/1889 [==============================] - 0s 217us/step - loss: 0.7873 - acc: 0.8094 - val_loss: 1.4787 - val_acc: 0.5701\n"
          ],
          "name": "stdout"
        }
      ]
    },
    {
      "cell_type": "code",
      "metadata": {
        "id": "u4CrQl9DJ4L-",
        "colab_type": "code",
        "colab": {}
      },
      "source": [
        "model.save(\"/content/drive/My Drive/Graffiti/artists/model_adam.hdf5\")"
      ],
      "execution_count": 0,
      "outputs": []
    },
    {
      "cell_type": "code",
      "metadata": {
        "id": "IMZeFKwOJ5pp",
        "colab_type": "code",
        "outputId": "e4b61ee7-30d9-4349-c092-beb76c60c7ab",
        "colab": {
          "base_uri": "https://localhost:8080/",
          "height": 34
        }
      },
      "source": [
        "model_adam = load_model(\"/content/drive/My Drive/Graffiti/artists/model_adam.hdf5\")\n",
        "model_adam"
      ],
      "execution_count": 15,
      "outputs": [
        {
          "output_type": "execute_result",
          "data": {
            "text/plain": [
              "<keras.engine.sequential.Sequential at 0x7fc44c539748>"
            ]
          },
          "metadata": {
            "tags": []
          },
          "execution_count": 15
        }
      ]
    },
    {
      "cell_type": "code",
      "metadata": {
        "id": "iWi8HsqjfCVj",
        "colab_type": "code",
        "outputId": "7d986cab-7fe3-4e68-996d-b4dbd032dd40",
        "colab": {
          "base_uri": "https://localhost:8080/",
          "height": 85
        }
      },
      "source": [
        "loss_adam, train_accuracy_adam = model_adam.evaluate(train_features, train_labels, batch_size=20, verbose=1)\n",
        "loss_adam, validation_accuracy_adam = model_adam.evaluate(validation_features, validation_labels, batch_size=20, verbose=1)\n",
        "print('Train accuracy (Adam Optimizer):', train_accuracy_adam)\n",
        "print('Validation accuracy (Adam Optimizer):', validation_accuracy_adam)"
      ],
      "execution_count": 16,
      "outputs": [
        {
          "output_type": "stream",
          "text": [
            "1889/1889 [==============================] - 0s 140us/step\n",
            "628/628 [==============================] - 0s 136us/step\n",
            "Train accuracy (Adam Optimizer): 0.9248279333114624\n",
            "Validation accuracy (Adam Optimizer): 0.5700637102127075\n"
          ],
          "name": "stdout"
        }
      ]
    },
    {
      "cell_type": "markdown",
      "metadata": {
        "id": "rzJulWpdLz5E",
        "colab_type": "text"
      },
      "source": [
        "#### Optimizer SGD"
      ]
    },
    {
      "cell_type": "markdown",
      "metadata": {
        "id": "CsBQZ_wizwof",
        "colab_type": "text"
      },
      "source": [
        "Stochastic gradient descent optimizer."
      ]
    },
    {
      "cell_type": "code",
      "metadata": {
        "id": "uv-D2DEWLtwu",
        "colab_type": "code",
        "outputId": "7ac242ed-1ff4-46cd-9f14-5c96ab4fb9c5",
        "colab": {
          "base_uri": "https://localhost:8080/",
          "height": 1000
        }
      },
      "source": [
        "from keras import models\n",
        "from keras import layers\n",
        "from keras import optimizers\n",
        "\n",
        "model = models.Sequential()\n",
        "model.add(layers.Dense(256, activation='relu', input_dim=4 * 4 * 512))\n",
        "model.add(layers.Dropout(0.50))\n",
        "model.add(layers.Dense(16, activation='softmax'))\n",
        "\n",
        "model.compile(optimizer=optimizers.SGD(lr=0.01),\n",
        "              loss='categorical_crossentropy',\n",
        "              metrics=['acc'])\n",
        "\n",
        "history = model.fit(train_features, train_labels,\n",
        "                    epochs=30,\n",
        "                    batch_size=20,\n",
        "                    validation_data=(validation_features, validation_labels))"
      ],
      "execution_count": 0,
      "outputs": [
        {
          "output_type": "stream",
          "text": [
            "Train on 1889 samples, validate on 628 samples\n",
            "Epoch 1/30\n",
            "1889/1889 [==============================] - 0s 247us/step - loss: 2.8002 - acc: 0.0863 - val_loss: 2.6424 - val_acc: 0.1178\n",
            "Epoch 2/30\n",
            "1889/1889 [==============================] - 0s 223us/step - loss: 2.5868 - acc: 0.1715 - val_loss: 2.4059 - val_acc: 0.2309\n",
            "Epoch 3/30\n",
            "1889/1889 [==============================] - 0s 219us/step - loss: 2.4035 - acc: 0.2292 - val_loss: 2.2985 - val_acc: 0.2723\n",
            "Epoch 4/30\n",
            "1889/1889 [==============================] - 0s 217us/step - loss: 2.2623 - acc: 0.2610 - val_loss: 2.2061 - val_acc: 0.2787\n",
            "Epoch 5/30\n",
            "1889/1889 [==============================] - 0s 215us/step - loss: 2.1217 - acc: 0.3182 - val_loss: 2.0820 - val_acc: 0.2914\n",
            "Epoch 6/30\n",
            "1889/1889 [==============================] - 0s 228us/step - loss: 2.0229 - acc: 0.3483 - val_loss: 1.9497 - val_acc: 0.3854\n",
            "Epoch 7/30\n",
            "1889/1889 [==============================] - 0s 209us/step - loss: 1.9312 - acc: 0.3812 - val_loss: 1.8828 - val_acc: 0.4188\n",
            "Epoch 8/30\n",
            "1889/1889 [==============================] - 0s 219us/step - loss: 1.8404 - acc: 0.4039 - val_loss: 1.8921 - val_acc: 0.3901\n",
            "Epoch 9/30\n",
            "1889/1889 [==============================] - 0s 214us/step - loss: 1.7536 - acc: 0.4436 - val_loss: 1.7773 - val_acc: 0.4650\n",
            "Epoch 10/30\n",
            "1889/1889 [==============================] - 0s 218us/step - loss: 1.6735 - acc: 0.4706 - val_loss: 1.7801 - val_acc: 0.3997\n",
            "Epoch 11/30\n",
            "1889/1889 [==============================] - 0s 231us/step - loss: 1.6434 - acc: 0.4643 - val_loss: 1.7113 - val_acc: 0.4490\n",
            "Epoch 12/30\n",
            "1889/1889 [==============================] - 0s 209us/step - loss: 1.5665 - acc: 0.4913 - val_loss: 1.8019 - val_acc: 0.3854\n",
            "Epoch 13/30\n",
            "1889/1889 [==============================] - 0s 216us/step - loss: 1.5138 - acc: 0.5093 - val_loss: 1.6485 - val_acc: 0.5032\n",
            "Epoch 14/30\n",
            "1889/1889 [==============================] - 0s 213us/step - loss: 1.4883 - acc: 0.5410 - val_loss: 1.6933 - val_acc: 0.4618\n",
            "Epoch 15/30\n",
            "1889/1889 [==============================] - 0s 216us/step - loss: 1.3972 - acc: 0.5490 - val_loss: 1.5939 - val_acc: 0.5032\n",
            "Epoch 16/30\n",
            "1889/1889 [==============================] - 0s 217us/step - loss: 1.3754 - acc: 0.5611 - val_loss: 1.6306 - val_acc: 0.4904\n",
            "Epoch 17/30\n",
            "1889/1889 [==============================] - 0s 206us/step - loss: 1.3204 - acc: 0.5844 - val_loss: 1.6096 - val_acc: 0.5016\n",
            "Epoch 18/30\n",
            "1889/1889 [==============================] - 0s 223us/step - loss: 1.3283 - acc: 0.5622 - val_loss: 1.9367 - val_acc: 0.3662\n",
            "Epoch 19/30\n",
            "1889/1889 [==============================] - 0s 215us/step - loss: 1.2287 - acc: 0.6120 - val_loss: 1.6069 - val_acc: 0.5064\n",
            "Epoch 20/30\n",
            "1889/1889 [==============================] - 0s 217us/step - loss: 1.2024 - acc: 0.6035 - val_loss: 1.6859 - val_acc: 0.4554\n",
            "Epoch 21/30\n",
            "1889/1889 [==============================] - 0s 216us/step - loss: 1.1543 - acc: 0.6273 - val_loss: 1.4831 - val_acc: 0.5510\n",
            "Epoch 22/30\n",
            "1889/1889 [==============================] - 0s 205us/step - loss: 1.1341 - acc: 0.6374 - val_loss: 1.6714 - val_acc: 0.4713\n",
            "Epoch 23/30\n",
            "1889/1889 [==============================] - 0s 220us/step - loss: 1.0931 - acc: 0.6485 - val_loss: 1.6289 - val_acc: 0.4889\n",
            "Epoch 24/30\n",
            "1889/1889 [==============================] - 0s 214us/step - loss: 1.0552 - acc: 0.6638 - val_loss: 1.5860 - val_acc: 0.4920\n",
            "Epoch 25/30\n",
            "1889/1889 [==============================] - 0s 217us/step - loss: 1.0078 - acc: 0.6760 - val_loss: 1.4471 - val_acc: 0.5669\n",
            "Epoch 26/30\n",
            "1889/1889 [==============================] - 0s 213us/step - loss: 0.9769 - acc: 0.6914 - val_loss: 1.4870 - val_acc: 0.5064\n",
            "Epoch 27/30\n",
            "1889/1889 [==============================] - 0s 212us/step - loss: 0.9711 - acc: 0.6940 - val_loss: 1.5481 - val_acc: 0.5143\n",
            "Epoch 28/30\n",
            "1889/1889 [==============================] - 0s 218us/step - loss: 0.9098 - acc: 0.7131 - val_loss: 1.7568 - val_acc: 0.4936\n",
            "Epoch 29/30\n",
            "1889/1889 [==============================] - 0s 212us/step - loss: 0.9040 - acc: 0.7141 - val_loss: 1.4760 - val_acc: 0.5414\n",
            "Epoch 30/30\n",
            "1889/1889 [==============================] - 0s 217us/step - loss: 0.8294 - acc: 0.7411 - val_loss: 1.5069 - val_acc: 0.5462\n"
          ],
          "name": "stdout"
        }
      ]
    },
    {
      "cell_type": "code",
      "metadata": {
        "id": "OsO7mtlzLteQ",
        "colab_type": "code",
        "colab": {}
      },
      "source": [
        "model.save(\"/content/drive/My Drive/Graffiti/artists/model_SGD.hdf5\")"
      ],
      "execution_count": 0,
      "outputs": []
    },
    {
      "cell_type": "code",
      "metadata": {
        "id": "tHth917SL6Uf",
        "colab_type": "code",
        "outputId": "fa19b12d-e34d-4642-df0d-7d98137647c2",
        "colab": {
          "base_uri": "https://localhost:8080/",
          "height": 34
        }
      },
      "source": [
        "from keras.models import load_model\n",
        "model_SGD = load_model(\"/content/drive/My Drive/Graffiti/artists/model_SGD.hdf5\")\n",
        "model_SGD"
      ],
      "execution_count": 17,
      "outputs": [
        {
          "output_type": "execute_result",
          "data": {
            "text/plain": [
              "<keras.engine.sequential.Sequential at 0x7fc39872be48>"
            ]
          },
          "metadata": {
            "tags": []
          },
          "execution_count": 17
        }
      ]
    },
    {
      "cell_type": "code",
      "metadata": {
        "id": "h9F40BjsL9mb",
        "colab_type": "code",
        "outputId": "2762b3f1-f9fd-4f1d-c604-726da006960a",
        "colab": {
          "base_uri": "https://localhost:8080/",
          "height": 85
        }
      },
      "source": [
        "loss_SGD, train_accuracy_SGD = model_SGD.evaluate(train_features, train_labels, batch_size=20, verbose=1)\n",
        "loss_SGD, validation_accuracy_SGD = model_SGD.evaluate(validation_features, validation_labels, batch_size=20, verbose=1)\n",
        "print('Train accuracy (SGD Optimizer):', train_accuracy_SGD)\n",
        "print('Validation accuracy (SGD Optimizer):', validation_accuracy_SGD)"
      ],
      "execution_count": 18,
      "outputs": [
        {
          "output_type": "stream",
          "text": [
            "1889/1889 [==============================] - 0s 147us/step\n",
            "628/628 [==============================] - 0s 122us/step\n",
            "Train accuracy (SGD Optimizer): 0.8512440323829651\n",
            "Validation accuracy (SGD Optimizer): 0.5461783409118652\n"
          ],
          "name": "stdout"
        }
      ]
    },
    {
      "cell_type": "markdown",
      "metadata": {
        "id": "ULXDFvowh6bZ",
        "colab_type": "text"
      },
      "source": [
        "#### Adding a Dense layer"
      ]
    },
    {
      "cell_type": "code",
      "metadata": {
        "id": "Ub2ghHZshxCq",
        "colab_type": "code",
        "outputId": "5d624aac-6988-4bc1-d9c4-f8d1a9df7ac3",
        "colab": {
          "base_uri": "https://localhost:8080/",
          "height": 1000
        }
      },
      "source": [
        "model = models.Sequential()\n",
        "model.add(layers.Dense(256, activation='relu', input_dim=4 * 4 * 512))\n",
        "model.add(layers.Dropout(0.50))\n",
        "model.add(layers.Dense(256, activation='relu', input_dim=4 * 4 * 512))\n",
        "model.add(layers.Dropout(0.50))\n",
        "model.add(layers.Dense(16, activation='softmax'))\n",
        "\n",
        "model.compile(optimizer=optimizers.RMSprop(lr=2e-5),\n",
        "              loss='categorical_crossentropy',\n",
        "              metrics=['acc'])\n",
        "\n",
        "history = model.fit(train_features, train_labels,\n",
        "                    epochs=30,\n",
        "                    batch_size=20,\n",
        "                    validation_data=(validation_features, validation_labels))"
      ],
      "execution_count": 0,
      "outputs": [
        {
          "output_type": "stream",
          "text": [
            "Train on 1889 samples, validate on 628 samples\n",
            "Epoch 1/30\n",
            "1889/1889 [==============================] - 1s 334us/step - loss: 3.0280 - acc: 0.0773 - val_loss: 2.7104 - val_acc: 0.1274\n",
            "Epoch 2/30\n",
            "1889/1889 [==============================] - 1s 267us/step - loss: 2.7886 - acc: 0.0921 - val_loss: 2.6539 - val_acc: 0.1943\n",
            "Epoch 3/30\n",
            "1889/1889 [==============================] - 1s 275us/step - loss: 2.6999 - acc: 0.1196 - val_loss: 2.6041 - val_acc: 0.2277\n",
            "Epoch 4/30\n",
            "1889/1889 [==============================] - 0s 259us/step - loss: 2.6580 - acc: 0.1451 - val_loss: 2.5656 - val_acc: 0.2675\n",
            "Epoch 5/30\n",
            "1889/1889 [==============================] - 1s 275us/step - loss: 2.5812 - acc: 0.1657 - val_loss: 2.5153 - val_acc: 0.2866\n",
            "Epoch 6/30\n",
            "1889/1889 [==============================] - 0s 263us/step - loss: 2.5436 - acc: 0.1959 - val_loss: 2.4683 - val_acc: 0.3153\n",
            "Epoch 7/30\n",
            "1889/1889 [==============================] - 1s 270us/step - loss: 2.4867 - acc: 0.2144 - val_loss: 2.4172 - val_acc: 0.3408\n",
            "Epoch 8/30\n",
            "1889/1889 [==============================] - 1s 266us/step - loss: 2.4643 - acc: 0.2144 - val_loss: 2.3725 - val_acc: 0.3551\n",
            "Epoch 9/30\n",
            "1889/1889 [==============================] - 0s 265us/step - loss: 2.4008 - acc: 0.2478 - val_loss: 2.3223 - val_acc: 0.3455\n",
            "Epoch 10/30\n",
            "1889/1889 [==============================] - 1s 269us/step - loss: 2.3401 - acc: 0.2620 - val_loss: 2.2845 - val_acc: 0.3678\n",
            "Epoch 11/30\n",
            "1889/1889 [==============================] - 1s 273us/step - loss: 2.3348 - acc: 0.2620 - val_loss: 2.2373 - val_acc: 0.3869\n",
            "Epoch 12/30\n",
            "1889/1889 [==============================] - 0s 259us/step - loss: 2.2770 - acc: 0.2880 - val_loss: 2.2109 - val_acc: 0.4013\n",
            "Epoch 13/30\n",
            "1889/1889 [==============================] - 1s 276us/step - loss: 2.2446 - acc: 0.3012 - val_loss: 2.1752 - val_acc: 0.3933\n",
            "Epoch 14/30\n",
            "1889/1889 [==============================] - 0s 263us/step - loss: 2.2030 - acc: 0.3086 - val_loss: 2.1345 - val_acc: 0.3917\n",
            "Epoch 15/30\n",
            "1889/1889 [==============================] - 1s 274us/step - loss: 2.1469 - acc: 0.3309 - val_loss: 2.0940 - val_acc: 0.4124\n",
            "Epoch 16/30\n",
            "1889/1889 [==============================] - 1s 276us/step - loss: 2.1185 - acc: 0.3340 - val_loss: 2.0694 - val_acc: 0.4252\n",
            "Epoch 17/30\n",
            "1889/1889 [==============================] - 1s 267us/step - loss: 2.0625 - acc: 0.3669 - val_loss: 2.0241 - val_acc: 0.4236\n",
            "Epoch 18/30\n",
            "1889/1889 [==============================] - 1s 267us/step - loss: 2.0643 - acc: 0.3669 - val_loss: 2.0085 - val_acc: 0.4252\n",
            "Epoch 19/30\n",
            "1889/1889 [==============================] - 1s 270us/step - loss: 2.0115 - acc: 0.3954 - val_loss: 1.9754 - val_acc: 0.4490\n",
            "Epoch 20/30\n",
            "1889/1889 [==============================] - 0s 262us/step - loss: 1.9519 - acc: 0.4044 - val_loss: 1.9483 - val_acc: 0.4570\n",
            "Epoch 21/30\n",
            "1889/1889 [==============================] - 1s 278us/step - loss: 1.9445 - acc: 0.3891 - val_loss: 1.9217 - val_acc: 0.4490\n",
            "Epoch 22/30\n",
            "1889/1889 [==============================] - 0s 262us/step - loss: 1.9229 - acc: 0.4124 - val_loss: 1.9031 - val_acc: 0.4475\n",
            "Epoch 23/30\n",
            "1889/1889 [==============================] - 1s 268us/step - loss: 1.8754 - acc: 0.4182 - val_loss: 1.8743 - val_acc: 0.4682\n",
            "Epoch 24/30\n",
            "1889/1889 [==============================] - 0s 263us/step - loss: 1.8317 - acc: 0.4150 - val_loss: 1.8582 - val_acc: 0.4570\n",
            "Epoch 25/30\n",
            "1889/1889 [==============================] - 1s 267us/step - loss: 1.7991 - acc: 0.4457 - val_loss: 1.8379 - val_acc: 0.4666\n",
            "Epoch 26/30\n",
            "1889/1889 [==============================] - 0s 264us/step - loss: 1.7684 - acc: 0.4547 - val_loss: 1.8132 - val_acc: 0.4825\n",
            "Epoch 27/30\n",
            "1889/1889 [==============================] - 1s 269us/step - loss: 1.7244 - acc: 0.4653 - val_loss: 1.7931 - val_acc: 0.4920\n",
            "Epoch 28/30\n",
            "1889/1889 [==============================] - 0s 260us/step - loss: 1.7280 - acc: 0.4685 - val_loss: 1.7708 - val_acc: 0.4825\n",
            "Epoch 29/30\n",
            "1889/1889 [==============================] - 1s 273us/step - loss: 1.6782 - acc: 0.4812 - val_loss: 1.7562 - val_acc: 0.4920\n",
            "Epoch 30/30\n",
            "1889/1889 [==============================] - 0s 261us/step - loss: 1.6852 - acc: 0.4701 - val_loss: 1.7470 - val_acc: 0.4873\n"
          ],
          "name": "stdout"
        }
      ]
    },
    {
      "cell_type": "code",
      "metadata": {
        "id": "w1snfSEiKU2E",
        "colab_type": "code",
        "colab": {}
      },
      "source": [
        "model.save(\"/content/drive/My Drive/Graffiti/artists/model_add_dense_layer.hdf5\")"
      ],
      "execution_count": 0,
      "outputs": []
    },
    {
      "cell_type": "code",
      "metadata": {
        "id": "CQWyBPDGKXeq",
        "colab_type": "code",
        "outputId": "eedb97de-e950-4e77-a829-c33c4f4d2a32",
        "colab": {
          "base_uri": "https://localhost:8080/",
          "height": 34
        }
      },
      "source": [
        "model_add_dense_layer = load_model(\"/content/drive/My Drive/Graffiti/artists/model_add_dense_layer.hdf5\")\n",
        "model_add_dense_layer"
      ],
      "execution_count": 19,
      "outputs": [
        {
          "output_type": "execute_result",
          "data": {
            "text/plain": [
              "<keras.engine.sequential.Sequential at 0x7fc3985a9ba8>"
            ]
          },
          "metadata": {
            "tags": []
          },
          "execution_count": 19
        }
      ]
    },
    {
      "cell_type": "code",
      "metadata": {
        "id": "XKLGk0aahwzV",
        "colab_type": "code",
        "outputId": "2af02891-693d-47ba-be1a-4d80fb88a5d6",
        "colab": {
          "base_uri": "https://localhost:8080/",
          "height": 85
        }
      },
      "source": [
        "loss_add_dense_layer, train_accuracy_add_dense_layer = model_add_dense_layer.evaluate(train_features, train_labels, batch_size=20, verbose=1)\n",
        "loss_add_dense_layer, validation_accuracy_add_dense_layer = model_add_dense_layer.evaluate(validation_features, validation_labels, batch_size=20, verbose=1)\n",
        "print('Train accuracy (Add dense layer):', train_accuracy_add_dense_layer)\n",
        "print('Validation accuracy (Add dense layer):', validation_accuracy_add_dense_layer)"
      ],
      "execution_count": 20,
      "outputs": [
        {
          "output_type": "stream",
          "text": [
            "1889/1889 [==============================] - 0s 133us/step\n",
            "628/628 [==============================] - 0s 123us/step\n",
            "Train accuracy (Add dense layer): 0.7003705501556396\n",
            "Validation accuracy (Add dense layer): 0.4872611463069916\n"
          ],
          "name": "stdout"
        }
      ]
    },
    {
      "cell_type": "markdown",
      "metadata": {
        "id": "DZ59vzEvp1mX",
        "colab_type": "text"
      },
      "source": [
        "### Model selection"
      ]
    },
    {
      "cell_type": "code",
      "metadata": {
        "id": "HW7zFBeip6S7",
        "colab_type": "code",
        "colab": {
          "base_uri": "https://localhost:8080/",
          "height": 300
        },
        "outputId": "bd785f89-0cd2-4b00-ab13-efd0016a362a"
      },
      "source": [
        "print('Baseline Model: One Dense Layer (256 Dense Units), 0.5 Dropout, RMSProp Optimizer\\n')\n",
        "model_tuning = {'Model Tuning': ['Baseline',\n",
        "                                 '128 Dense Units',\n",
        "                                 '512 Dense Units',\n",
        "                                 '0.25 Dropout',\n",
        "                                 'Adam Optimizer',\n",
        "                                 'SGD Optimizer', \n",
        "                                 'Adding Dense Layer'],\n",
        "        'Train Accuracy': [train_accuracy_base, train_accuracy_128,\n",
        "                           train_accuracy_512, train_accuracy_dropout_25,\n",
        "                           train_accuracy_adam, train_accuracy_SGD,\n",
        "                           train_accuracy_add_dense_layer],\n",
        "        'Validation Accuracy': [validation_accuracy_base, validation_accuracy_128,\n",
        "                                validation_accuracy_512, validation_accuracy_dropout_25,\n",
        "                                validation_accuracy_adam, validation_accuracy_SGD,\n",
        "                                validation_accuracy_add_dense_layer],\n",
        "        }\n",
        "\n",
        "df = pd.DataFrame(model_tuning, columns = ['Model Tuning', 'Train Accuracy', \n",
        "                                           'Validation Accuracy'])\n",
        "df_sorted = df.sort_values(by='Validation Accuracy', ascending=False)\n",
        "df_sorted.index = np.arange(1,len(df_sorted)+1)\n",
        "df_sorted"
      ],
      "execution_count": 21,
      "outputs": [
        {
          "output_type": "stream",
          "text": [
            "Baseline Model: One Dense Layer (256 Dense Units), 0.5 Dropout, RMSProp Optimizer\n",
            "\n"
          ],
          "name": "stdout"
        },
        {
          "output_type": "execute_result",
          "data": {
            "text/html": [
              "<div>\n",
              "<style scoped>\n",
              "    .dataframe tbody tr th:only-of-type {\n",
              "        vertical-align: middle;\n",
              "    }\n",
              "\n",
              "    .dataframe tbody tr th {\n",
              "        vertical-align: top;\n",
              "    }\n",
              "\n",
              "    .dataframe thead th {\n",
              "        text-align: right;\n",
              "    }\n",
              "</style>\n",
              "<table border=\"1\" class=\"dataframe\">\n",
              "  <thead>\n",
              "    <tr style=\"text-align: right;\">\n",
              "      <th></th>\n",
              "      <th>Model Tuning</th>\n",
              "      <th>Train Accuracy</th>\n",
              "      <th>Validation Accuracy</th>\n",
              "    </tr>\n",
              "  </thead>\n",
              "  <tbody>\n",
              "    <tr>\n",
              "      <th>1</th>\n",
              "      <td>Adam Optimizer</td>\n",
              "      <td>0.924828</td>\n",
              "      <td>0.570064</td>\n",
              "    </tr>\n",
              "    <tr>\n",
              "      <th>2</th>\n",
              "      <td>Baseline</td>\n",
              "      <td>0.884066</td>\n",
              "      <td>0.562102</td>\n",
              "    </tr>\n",
              "    <tr>\n",
              "      <th>3</th>\n",
              "      <td>512 Dense Units</td>\n",
              "      <td>0.941239</td>\n",
              "      <td>0.560510</td>\n",
              "    </tr>\n",
              "    <tr>\n",
              "      <th>4</th>\n",
              "      <td>0.25 Dropout</td>\n",
              "      <td>0.939121</td>\n",
              "      <td>0.557325</td>\n",
              "    </tr>\n",
              "    <tr>\n",
              "      <th>5</th>\n",
              "      <td>SGD Optimizer</td>\n",
              "      <td>0.851244</td>\n",
              "      <td>0.546178</td>\n",
              "    </tr>\n",
              "    <tr>\n",
              "      <th>6</th>\n",
              "      <td>128 Dense Units</td>\n",
              "      <td>0.781895</td>\n",
              "      <td>0.539809</td>\n",
              "    </tr>\n",
              "    <tr>\n",
              "      <th>7</th>\n",
              "      <td>Adding Dense Layer</td>\n",
              "      <td>0.700371</td>\n",
              "      <td>0.487261</td>\n",
              "    </tr>\n",
              "  </tbody>\n",
              "</table>\n",
              "</div>"
            ],
            "text/plain": [
              "         Model Tuning  Train Accuracy  Validation Accuracy\n",
              "1      Adam Optimizer        0.924828             0.570064\n",
              "2            Baseline        0.884066             0.562102\n",
              "3     512 Dense Units        0.941239             0.560510\n",
              "4        0.25 Dropout        0.939121             0.557325\n",
              "5       SGD Optimizer        0.851244             0.546178\n",
              "6     128 Dense Units        0.781895             0.539809\n",
              "7  Adding Dense Layer        0.700371             0.487261"
            ]
          },
          "metadata": {
            "tags": []
          },
          "execution_count": 21
        }
      ]
    },
    {
      "cell_type": "markdown",
      "metadata": {
        "id": "wMzJGNMSDiBq",
        "colab_type": "text"
      },
      "source": [
        "By adjusting the hyperparameters, the model with the best result has one dense layer of 256 dense units, 0.5 dropout and using Adam optimizer."
      ]
    },
    {
      "cell_type": "markdown",
      "metadata": {
        "id": "Ra8R-lDUyAcW",
        "colab_type": "text"
      },
      "source": [
        "Further optimization was done by changing the batch size from 20 to 30 which resulted in an accuracy result of 0.554. Using the same batch size but increasing the epoch to 45 resulted in an accuracy of 0.546. For both of these adjustments, the model did not produce a significant improvement from the best accuracy of 0.57. "
      ]
    },
    {
      "cell_type": "markdown",
      "metadata": {
        "id": "tD0Hsp7oGIzj",
        "colab_type": "text"
      },
      "source": [
        "###Performance Metrics"
      ]
    },
    {
      "cell_type": "markdown",
      "metadata": {
        "id": "txn7MggrACNY",
        "colab_type": "text"
      },
      "source": [
        "#### Top 1 Accuracy"
      ]
    },
    {
      "cell_type": "code",
      "metadata": {
        "id": "LoJaVFb0kd-E",
        "colab_type": "code",
        "outputId": "2c5eb49b-6df8-452d-c484-9c3cab4fdb8f",
        "colab": {
          "base_uri": "https://localhost:8080/",
          "height": 34
        }
      },
      "source": [
        "loss_base, test_accuracy_base = model_base.evaluate(test_features, test_labels, batch_size=20, verbose=1)"
      ],
      "execution_count": 22,
      "outputs": [
        {
          "output_type": "stream",
          "text": [
            "631/631 [==============================] - 0s 130us/step\n"
          ],
          "name": "stdout"
        }
      ]
    },
    {
      "cell_type": "code",
      "metadata": {
        "id": "nYoFLu4b_3UC",
        "colab_type": "code",
        "colab": {
          "base_uri": "https://localhost:8080/",
          "height": 51
        },
        "outputId": "bad17e6e-cebd-4f9a-ec7d-2c61b9380ef9"
      },
      "source": [
        "print('For a model with one dense layer, 256 dense units, 0.5 dropout, Adam optimizer,')\n",
        "print('Top 1 Accuracy =', test_accuracy_base)"
      ],
      "execution_count": 23,
      "outputs": [
        {
          "output_type": "stream",
          "text": [
            "For a model with one dense layer, 256 dense units, 0.5 dropout, Adam optimizer,\n",
            "Top 1 Accuracy = 0.5451663732528687\n"
          ],
          "name": "stdout"
        }
      ]
    },
    {
      "cell_type": "markdown",
      "metadata": {
        "id": "j6RHw-MntebU",
        "colab_type": "text"
      },
      "source": [
        "####Confusion Matrix"
      ]
    },
    {
      "cell_type": "markdown",
      "metadata": {
        "id": "S0-9FDs_gMzT",
        "colab_type": "text"
      },
      "source": [
        "Number of images per artist used for Test Predictions."
      ]
    },
    {
      "cell_type": "code",
      "metadata": {
        "id": "Q5-6DimkW08G",
        "colab_type": "code",
        "outputId": "9a6f9ccd-37d9-42b4-ba54-e7118bd58b00",
        "colab": {
          "base_uri": "https://localhost:8080/",
          "height": 289
        }
      },
      "source": [
        "dir_list = os.listdir('/content/drive/My Drive/Graffiti/artists/test')\n",
        "\n",
        "for i in range(len(dir_list)-1):\n",
        "    path, dirs, files = next(os.walk(\"/content/drive/My Drive/Graffiti/artists/test/\" + str(dir_list[i])))\n",
        "    test_artist_list.append(str(dir_list[i]) + ': ' + str(len(files)))\n",
        "    print('{:<14}{}'.format(dir_list[i], len(files)))"
      ],
      "execution_count": 0,
      "outputs": [
        {
          "output_type": "stream",
          "text": [
            "daim          36\n",
            "banksy        34\n",
            "dondi_white   27\n",
            "retna         49\n",
            "cope          44\n",
            "os_gemoeos    43\n",
            "taki183       42\n",
            "futura2000    33\n",
            "lady_pink     35\n",
            "keith_haring  44\n",
            "david_choe    29\n",
            "blek_le_rat   41\n",
            "vhils         40\n",
            "basquiat      38\n",
            "roa           51\n",
            "seen          45\n"
          ],
          "name": "stdout"
        }
      ]
    },
    {
      "cell_type": "markdown",
      "metadata": {
        "id": "oq0AjDvvhLwZ",
        "colab_type": "text"
      },
      "source": [
        "Use the test_labels of images and calling the predict method of the base model on the test features to create a confusion matrix. "
      ]
    },
    {
      "cell_type": "code",
      "metadata": {
        "id": "NNYa5OtXjVgj",
        "colab_type": "code",
        "colab": {}
      },
      "source": [
        "test_labels_argmax = np.argmax(test_labels, axis=1)\n",
        "\n",
        "out = model_base.predict(test_features)\n",
        "y_pred = np.argmax(out, axis=1)"
      ],
      "execution_count": 0,
      "outputs": []
    },
    {
      "cell_type": "code",
      "metadata": {
        "id": "rxrDe2GtWMpb",
        "colab_type": "code",
        "outputId": "69a02139-488b-429f-e1ed-ef0474f8a584",
        "colab": {
          "base_uri": "https://localhost:8080/",
          "height": 829
        }
      },
      "source": [
        "artists_list = ['banksy','basquiat', 'blek_le_rat', 'cope', 'daim', 'david_choe', 'dondi_white', \n",
        "               'futura2000', 'keith_haring', 'lady_pink', 'os_gemoeos', 'retna', 'roa', 'seen', \n",
        "               'taki183', 'vhils']\n",
        "\n",
        "cm = confusion_matrix(test_labels_argmax, y_pred, binary=False)\n",
        "fig, ax = plot_confusion_matrix(conf_mat=cm)\n",
        "fig.set_size_inches(12, 12)\n",
        "plt.title('Base Model CNN Confusion Matrix', pad = -5, fontsize = 20)\n",
        "plt.xlabel('Predicted Artists', fontsize = 15, labelpad = 18)\n",
        "plt.ylabel('Actual Artists', fontsize = 15, labelpad = 18)\n",
        "plt.xticks(np.arange(0,16,1), artists_list, rotation=45, fontsize = 12, )\n",
        "plt.tick_params(axis='x', length=5)\n",
        "plt.yticks(np.arange(0,16,1), artists_list, fontsize = 12)\n",
        "plt.tick_params(axis='y', length=5)\n",
        "plt.show()"
      ],
      "execution_count": 0,
      "outputs": [
        {
          "output_type": "display_data",
          "data": {
            "image/png": "[encoded data removed]",
            "text/plain": [
              "<Figure size 864x864 with 1 Axes>"
            ]
          },
          "metadata": {
            "tags": [],
            "image/png": {
              "width": 782,
              "height": 812
            }
          }
        }
      ]
    },
    {
      "cell_type": "markdown",
      "metadata": {
        "id": "uIg6_UHfGvxZ",
        "colab_type": "text"
      },
      "source": [
        "Insight gained from the confusion matrix shows the model performed great for 4 artists, was confused between two artists and had a hard time with predictions for the artist Futura2000.\n",
        "\n",
        "Shown in dark blue, the model did great for 4 artists. These 4 artists have one thing in common, their style of art is singular. Daim’s style is mainly 3-D with lots of angle shapes, Roa is mostly of wild animals in minimal color, \n",
        "Keith Haring always uses bold outline of figures and Retna mainly does colorful bold hieroglyphs and calligraphy.\n",
        "\n",
        "The model was mixed up with Banksy and Blek le Rat. Googling and reading more about Blek le Rat and Banksy, the prediction mix up is acceptable since Banksy was inspired by Blek le Rat and thus there’s a lot of visual similarity to their works. \n",
        "\n",
        "The model had a hard time classifying the wide range of style of for the artist Futura2000. His style ranged from abstract, to his signature motif of point man and the atom structure, to lettering and tagging."
      ]
    },
    {
      "cell_type": "markdown",
      "metadata": {
        "id": "wAVzzYN6I-0H",
        "colab_type": "text"
      },
      "source": [
        "#### Top 3 Accuracy"
      ]
    },
    {
      "cell_type": "markdown",
      "metadata": {
        "id": "1RnfIiWSDvLi",
        "colab_type": "text"
      },
      "source": [
        "Top 3 accuracy score measures how often the model predictions falls in the top 3 values of the softmax distribution. It is a more realistic performance metric than the absolute results from Top 1 accuracy score and the confusion matrix. Top 3 accuracy score is a more suited metric for this project due to the small dataset, large class size and the visual recognition challenge of discerning similar patterns and styles in artworks."
      ]
    },
    {
      "cell_type": "code",
      "metadata": {
        "id": "S3myjWPBLd83",
        "colab_type": "code",
        "outputId": "53c668e7-6522-4ca3-a77e-007482e68b1f",
        "colab": {
          "base_uri": "https://localhost:8080/",
          "height": 136
        }
      },
      "source": [
        "test_labels_argmax = np.argmax(test_labels, axis=1)\n",
        "\n",
        "out = model_adam.predict_proba(test_features)\n",
        "y_pred = np.argsort(out, axis=1)[:,-3:]\n",
        "print('Actual predictions for 5 samples:', test_labels_argmax[:5])\n",
        "print('Top 3 predictions for 5 samples:\\n', y_pred[:5])"
      ],
      "execution_count": 0,
      "outputs": [
        {
          "output_type": "stream",
          "text": [
            "Actual predictions for 5 samples: [11  4 13 13 14]\n",
            "Top 3 predictions for 5 samples:\n",
            " [[ 8 14 11]\n",
            " [ 0  2  4]\n",
            " [10 14  1]\n",
            " [ 7 11  2]\n",
            " [ 8  1 14]]\n"
          ],
          "name": "stdout"
        }
      ]
    },
    {
      "cell_type": "code",
      "metadata": {
        "id": "3GTZsazHP25v",
        "colab_type": "code",
        "outputId": "2105cb01-2c65-4752-db94-d295c1be53ac",
        "colab": {
          "base_uri": "https://localhost:8080/",
          "height": 34
        }
      },
      "source": [
        "counter = 0\n",
        "for i in range(len(test_labels_argmax)): \n",
        "    if test_labels_argmax[i] in y_pred[i]:\n",
        "        counter +=1\n",
        "    else:\n",
        "        continue\n",
        "    \n",
        "print('Top-3-Accuracy:', counter/(len(test_labels_argmax)))"
      ],
      "execution_count": 0,
      "outputs": [
        {
          "output_type": "stream",
          "text": [
            "Top-3-Accuracy: 0.768621236133122\n"
          ],
          "name": "stdout"
        }
      ]
    },
    {
      "cell_type": "markdown",
      "metadata": {
        "id": "kwj692u5nAvg",
        "colab_type": "text"
      },
      "source": [
        "For a small dataset and large class size, the model did a good job of predicting correctly within the top 3 values for each class 77% of the time. "
      ]
    },
    {
      "cell_type": "markdown",
      "metadata": {
        "id": "djm2xhrrMQWK",
        "colab_type": "text"
      },
      "source": [
        "#Data Augmentation"
      ]
    },
    {
      "cell_type": "markdown",
      "metadata": {
        "id": "SD5naC1i2NpL",
        "colab_type": "text"
      },
      "source": [
        "Extending the conv_base by adding Dense layers on top, and running the whole thing end-to-end on the input data. This creates synthetically larger sample sizes. \n",
        "\n",
        "Leverage data augmentation by artificially introduce noise to images, make model more robust to overfitting (regularization) with small image datasets."
      ]
    },
    {
      "cell_type": "code",
      "metadata": {
        "id": "Ldy9FkhU__eq",
        "colab_type": "code",
        "colab": {}
      },
      "source": [
        "model = models.Sequential()\n",
        "model.add(conv_base)\n",
        "model.add(layers.Flatten())\n",
        "model.add(layers.Dense(256, activation='relu'))\n",
        "model.add(layers.Dense(16, activation='softmax'))"
      ],
      "execution_count": 0,
      "outputs": []
    },
    {
      "cell_type": "code",
      "metadata": {
        "id": "dqi9n2AgPg32",
        "colab_type": "code",
        "outputId": "4eabb0d9-50a3-404e-f6cd-a2194d807043",
        "colab": {
          "base_uri": "https://localhost:8080/",
          "height": 289
        }
      },
      "source": [
        "model.summary()"
      ],
      "execution_count": 41,
      "outputs": [
        {
          "output_type": "stream",
          "text": [
            "Model: \"sequential_1\"\n",
            "_________________________________________________________________\n",
            "Layer (type)                 Output Shape              Param #   \n",
            "=================================================================\n",
            "vgg16 (Model)                (None, 4, 4, 512)         14714688  \n",
            "_________________________________________________________________\n",
            "flatten_1 (Flatten)          (None, 8192)              0         \n",
            "_________________________________________________________________\n",
            "dense_1 (Dense)              (None, 256)               2097408   \n",
            "_________________________________________________________________\n",
            "dense_2 (Dense)              (None, 16)                4112      \n",
            "=================================================================\n",
            "Total params: 16,816,208\n",
            "Trainable params: 16,816,208\n",
            "Non-trainable params: 0\n",
            "_________________________________________________________________\n"
          ],
          "name": "stdout"
        }
      ]
    },
    {
      "cell_type": "markdown",
      "metadata": {
        "id": "5I6j3A2nNQpL",
        "colab_type": "text"
      },
      "source": [
        "Freeze the convolutional base network by setting its trainable attribute to False. This prevents the learned weights of the conv_base from being modified. "
      ]
    },
    {
      "cell_type": "code",
      "metadata": {
        "id": "DjyHbHOTNEdA",
        "colab_type": "code",
        "colab": {}
      },
      "source": [
        "conv_base.trainable = False"
      ],
      "execution_count": 0,
      "outputs": []
    },
    {
      "cell_type": "markdown",
      "metadata": {
        "id": "Se44CcHNNhlR",
        "colab_type": "text"
      },
      "source": [
        "Not including the frozen conv_base layer, there are four weight tensors (two main weights from dense layers and each of it's bias vectors) that will be trained. "
      ]
    },
    {
      "cell_type": "code",
      "metadata": {
        "id": "mdd-dJD5NDyr",
        "colab_type": "code",
        "outputId": "88617903-7f2c-4459-c402-89303e2976a0",
        "colab": {
          "base_uri": "https://localhost:8080/",
          "height": 1000
        }
      },
      "source": [
        "base_dir = '/content/drive/My Drive/Graffiti/artists/'\n",
        "train_dir = os.path.join(base_dir, 'train')\n",
        "validation_dir = os.path.join(base_dir, 'validation')\n",
        "test_dir = os.path.join(base_dir, 'test')\n",
        "\n",
        "train_datagen = ImageDataGenerator(\n",
        "      rescale=1./255,          \n",
        "      width_shift_range=0.2,\n",
        "      height_shift_range=0.2,\n",
        "      shear_range=0.2,         \n",
        "      zoom_range=0.2,\n",
        "      horizontal_flip=False,\n",
        "      fill_mode='nearest')\n",
        "\n",
        "test_datagen = ImageDataGenerator(rescale=1./255)\n",
        "\n",
        "train_generator = train_datagen.flow_from_directory(\n",
        "        train_dir,\n",
        "        target_size=(150, 150),\n",
        "        batch_size=20,\n",
        "        class_mode='categorical')\n",
        "\n",
        "validation_generator = test_datagen.flow_from_directory(\n",
        "        validation_dir,\n",
        "        target_size=(150, 150),\n",
        "        batch_size=20,\n",
        "        class_mode='categorical')\n",
        "\n",
        "model.compile(loss='categorical_crossentropy',\n",
        "              optimizer=optimizers.RMSprop(lr=2e-5),\n",
        "              metrics=['acc'])\n",
        "\n",
        "history = model.fit_generator(\n",
        "      train_generator, \n",
        "      steps_per_epoch=100, \n",
        "      epochs=30,\n",
        "      validation_data=validation_generator,\n",
        "      validation_steps=50, \n",
        "      verbose=2)"
      ],
      "execution_count": 43,
      "outputs": [
        {
          "output_type": "stream",
          "text": [
            "Found 1889 images belonging to 16 classes.\n",
            "Found 628 images belonging to 16 classes.\n",
            "Epoch 1/30\n",
            " - 1477s - loss: 2.7010 - acc: 0.1443 - val_loss: 2.4166 - val_acc: 0.2095\n",
            "Epoch 2/30\n",
            " - 57s - loss: 2.4179 - acc: 0.2790 - val_loss: 2.3594 - val_acc: 0.3227\n",
            "Epoch 3/30\n",
            " - 58s - loss: 2.2264 - acc: 0.3620 - val_loss: 2.1352 - val_acc: 0.3482\n",
            "Epoch 4/30\n",
            " - 57s - loss: 2.0595 - acc: 0.4093 - val_loss: 1.9324 - val_acc: 0.4057\n",
            "Epoch 5/30\n",
            " - 59s - loss: 1.9392 - acc: 0.4429 - val_loss: 1.6718 - val_acc: 0.4555\n",
            "Epoch 6/30\n",
            " - 61s - loss: 1.8339 - acc: 0.4788 - val_loss: 1.8900 - val_acc: 0.4242\n",
            "Epoch 7/30\n",
            " - 58s - loss: 1.7555 - acc: 0.4980 - val_loss: 2.0608 - val_acc: 0.4676\n",
            "Epoch 8/30\n",
            " - 63s - loss: 1.6554 - acc: 0.5288 - val_loss: 1.9249 - val_acc: 0.4846\n",
            "Epoch 9/30\n",
            " - 58s - loss: 1.6382 - acc: 0.5315 - val_loss: 1.6654 - val_acc: 0.4795\n",
            "Epoch 10/30\n",
            " - 61s - loss: 1.5253 - acc: 0.5686 - val_loss: 2.1978 - val_acc: 0.5030\n",
            "Epoch 11/30\n",
            " - 58s - loss: 1.5092 - acc: 0.5607 - val_loss: 1.5476 - val_acc: 0.4785\n",
            "Epoch 12/30\n",
            " - 58s - loss: 1.4816 - acc: 0.5641 - val_loss: 1.5843 - val_acc: 0.5051\n",
            "Epoch 13/30\n",
            " - 61s - loss: 1.4038 - acc: 0.6000 - val_loss: 1.6559 - val_acc: 0.5348\n",
            "Epoch 14/30\n",
            " - 58s - loss: 1.3626 - acc: 0.6173 - val_loss: 1.3225 - val_acc: 0.5294\n",
            "Epoch 15/30\n",
            " - 60s - loss: 1.3920 - acc: 0.5968 - val_loss: 2.0610 - val_acc: 0.5359\n",
            "Epoch 16/30\n",
            " - 58s - loss: 1.3158 - acc: 0.6345 - val_loss: 1.3390 - val_acc: 0.5471\n",
            "Epoch 17/30\n",
            " - 59s - loss: 1.2919 - acc: 0.6310 - val_loss: 1.5448 - val_acc: 0.5476\n",
            "Epoch 18/30\n",
            " - 57s - loss: 1.2536 - acc: 0.6506 - val_loss: 1.7888 - val_acc: 0.5738\n",
            "Epoch 19/30\n",
            " - 63s - loss: 1.2276 - acc: 0.6546 - val_loss: 1.5015 - val_acc: 0.5688\n",
            "Epoch 20/30\n",
            " - 58s - loss: 1.2073 - acc: 0.6577 - val_loss: 1.3412 - val_acc: 0.5758\n",
            "Epoch 21/30\n",
            " - 59s - loss: 1.1679 - acc: 0.6757 - val_loss: 0.9107 - val_acc: 0.5536\n",
            "Epoch 22/30\n",
            " - 60s - loss: 1.1513 - acc: 0.6790 - val_loss: 1.8458 - val_acc: 0.5502\n",
            "Epoch 23/30\n",
            " - 59s - loss: 1.1312 - acc: 0.6833 - val_loss: 1.6692 - val_acc: 0.5739\n",
            "Epoch 24/30\n",
            " - 58s - loss: 1.1242 - acc: 0.6800 - val_loss: 1.6996 - val_acc: 0.5584\n",
            "Epoch 25/30\n",
            " - 60s - loss: 1.1373 - acc: 0.6692 - val_loss: 1.5316 - val_acc: 0.5676\n",
            "Epoch 26/30\n",
            " - 61s - loss: 1.0725 - acc: 0.6985 - val_loss: 1.8352 - val_acc: 0.5567\n",
            "Epoch 27/30\n",
            " - 57s - loss: 1.0692 - acc: 0.6997 - val_loss: 2.0505 - val_acc: 0.5676\n",
            "Epoch 28/30\n",
            " - 59s - loss: 1.0326 - acc: 0.7109 - val_loss: 1.4281 - val_acc: 0.5860\n",
            "Epoch 29/30\n",
            " - 58s - loss: 1.0027 - acc: 0.7070 - val_loss: 1.1918 - val_acc: 0.5686\n",
            "Epoch 30/30\n",
            " - 59s - loss: 1.0202 - acc: 0.7058 - val_loss: 1.7246 - val_acc: 0.5982\n"
          ],
          "name": "stdout"
        }
      ]
    },
    {
      "cell_type": "code",
      "metadata": {
        "id": "8LwOx5bSN6HI",
        "colab_type": "code",
        "colab": {}
      },
      "source": [
        "model.save(\"/content/drive/My Drive/Graffiti/artists/model_image_aug_4_30.hdf5\")"
      ],
      "execution_count": 0,
      "outputs": []
    },
    {
      "cell_type": "code",
      "metadata": {
        "id": "-ygAKd-vFar-",
        "colab_type": "code",
        "outputId": "e3774d80-241b-4a34-d5f5-979023cf7bce",
        "colab": {
          "base_uri": "https://localhost:8080/",
          "height": 88
        }
      },
      "source": [
        "model_augment = load_model(\"/content/drive/My Drive/Graffiti/artists/model_image_aug_4_30.hdf5\")\n",
        "model_augment"
      ],
      "execution_count": 45,
      "outputs": [
        {
          "output_type": "stream",
          "text": [
            "/usr/local/lib/python3.6/dist-packages/keras/engine/saving.py:384: UserWarning: Error in loading the saved optimizer state. As a result, your model is starting with a freshly initialized optimizer.\n",
            "  warnings.warn('Error in loading the saved optimizer '\n"
          ],
          "name": "stderr"
        },
        {
          "output_type": "execute_result",
          "data": {
            "text/plain": [
              "<keras.engine.sequential.Sequential at 0x7fc379119e10>"
            ]
          },
          "metadata": {
            "tags": []
          },
          "execution_count": 45
        }
      ]
    },
    {
      "cell_type": "code",
      "metadata": {
        "id": "4zi12ixJLsEw",
        "colab_type": "code",
        "colab": {
          "base_uri": "https://localhost:8080/",
          "height": 85
        },
        "outputId": "04579368-eb56-4f9b-fb15-42cacb916fab"
      },
      "source": [
        "test_generator = test_datagen.flow_from_directory(\n",
        "        test_dir,\n",
        "        target_size=(150, 150),\n",
        "        batch_size=30,\n",
        "        class_mode='categorical',\n",
        "        shuffle = True)\n",
        "\n",
        "train_loss, train_acc = model_augment.evaluate_generator(train_generator, steps=50)\n",
        "validation_loss, validation_acc = model_augment.evaluate_generator(validation_generator, steps=50)\n",
        "test_loss, test_acc = model_augment.evaluate_generator(test_generator, steps=50)\n",
        "print('train acc:', train_acc)\n",
        "print('validation acc:', validation_acc)\n",
        "print('test acc:', test_acc)"
      ],
      "execution_count": 46,
      "outputs": [
        {
          "output_type": "stream",
          "text": [
            "Found 631 images belonging to 16 classes.\n",
            "train acc: 0.734000027179718\n",
            "validation acc: 0.591093122959137\n",
            "test acc: 0.5395284295082092\n"
          ],
          "name": "stdout"
        }
      ]
    },
    {
      "cell_type": "markdown",
      "metadata": {
        "id": "6dpKqsVWObOh",
        "colab_type": "text"
      },
      "source": [
        "Loss and Accuracy Curves during training"
      ]
    },
    {
      "cell_type": "code",
      "metadata": {
        "id": "dDTvn0_Dwbhx",
        "colab_type": "code",
        "outputId": "c5df625d-36a7-406d-aee2-03b64f88b425",
        "colab": {
          "base_uri": "https://localhost:8080/",
          "height": 545
        }
      },
      "source": [
        "acc = history.history['acc']\n",
        "val_acc = history.history['val_acc']\n",
        "loss = history.history['loss']\n",
        "val_loss = history.history['val_loss']\n",
        "\n",
        "epochs = range(len(acc))\n",
        "\n",
        "plt.plot(epochs, acc, 'bo', label='Training acc')\n",
        "plt.plot(epochs, val_acc, 'b', label='Validation acc')\n",
        "plt.title('Training and validation accuracy')\n",
        "plt.legend()\n",
        "\n",
        "plt.figure()\n",
        "\n",
        "plt.plot(epochs, loss, 'bo', label='Training loss')\n",
        "plt.plot(epochs, val_loss, 'b', label='Validation loss')\n",
        "plt.title('Training and validation loss')\n",
        "plt.legend()\n",
        "\n",
        "plt.show()"
      ],
      "execution_count": 0,
      "outputs": [
        {
          "output_type": "display_data",
          "data": {
            "image/png": "[encoded data removed]",
            "text/plain": [
              "<Figure size 432x288 with 1 Axes>"
            ]
          },
          "metadata": {
            "tags": [],
            "needs_background": "light"
          }
        },
        {
          "output_type": "display_data",
          "data": {
            "image/png": "[encoded data removed]",
            "text/plain": [
              "<Figure size 432x288 with 1 Axes>"
            ]
          },
          "metadata": {
            "tags": [],
            "needs_background": "light"
          }
        }
      ]
    },
    {
      "cell_type": "markdown",
      "metadata": {
        "id": "qJDE_h9pJl_h",
        "colab_type": "text"
      },
      "source": [
        "The test accuracy with data augmentation is 0.54. Although data augmentation helped reduce overfitting training and validation accuracy, using unseen test samples, it did not do better than the base model of 0.54 (with RMSProp or Adam optimizer)."
      ]
    },
    {
      "cell_type": "markdown",
      "metadata": {
        "id": "5vV6FISCEJRH",
        "colab_type": "text"
      },
      "source": [
        "#New sample classification"
      ]
    },
    {
      "cell_type": "markdown",
      "metadata": {
        "id": "SScDzd0a5Z54",
        "colab_type": "text"
      },
      "source": [
        "Use the selected model with adam optimizer to classify a new sample from the artist 'Daim'"
      ]
    },
    {
      "cell_type": "code",
      "metadata": {
        "id": "FBt91pD_2gsd",
        "colab_type": "code",
        "outputId": "9e2a1df5-4a9b-47a5-d5f1-c3aba70e5403",
        "colab": {
          "base_uri": "https://localhost:8080/",
          "height": 34
        }
      },
      "source": [
        "base_dir = '/content/drive/My Drive/Graffiti/artists/'\n",
        "\n",
        "sample_dir = os.path.join(base_dir, 'sample')\n",
        "\n",
        "datagen = ImageDataGenerator(rescale=1./255)\n",
        "batch_size = 20\n",
        "\n",
        "def extract_features(directory, sample_count):\n",
        "    features = np.zeros(shape=(sample_count, 4, 4, 512))\n",
        "    labels = np.zeros(shape=(sample_count, 1))\n",
        "    generator = datagen.flow_from_directory(\n",
        "        directory,\n",
        "        target_size=(150, 150),\n",
        "        batch_size=batch_size,\n",
        "        class_mode= 'categorical')\n",
        "    i = 0\n",
        "    for inputs_batch, labels_batch in generator:\n",
        "        features_batch = conv_base.predict(inputs_batch)\n",
        "        try:\n",
        "            features[i * batch_size : (i + 1) * batch_size] = features_batch\n",
        "            labels[i * batch_size : (i + 1) * batch_size] = labels_batch\n",
        "            i += 1\n",
        "        except:\n",
        "            remaining_samples = features[i * batch_size : (i + 1) * batch_size].shape[0] \n",
        "            features[i * batch_size : (i + 1) * batch_size] = features_batch[:remaining_samples]\n",
        "            labels[i * batch_size : (i + 1) * batch_size] = labels_batch[:remaining_samples]\n",
        "        if i * batch_size >= sample_count:\n",
        "            # Note that since generators yield data indefinitely in a loop,\n",
        "            # we must `break` after every image has been seen once.\n",
        "            break\n",
        "    return features, labels\n",
        "\n",
        "sample_features, sample_labels = extract_features(sample_dir, 1)\n",
        "sample_features = np.reshape(sample_features, (1, 4 * 4 * 512))"
      ],
      "execution_count": 35,
      "outputs": [
        {
          "output_type": "stream",
          "text": [
            "Found 1 images belonging to 1 classes.\n"
          ],
          "name": "stdout"
        }
      ]
    },
    {
      "cell_type": "code",
      "metadata": {
        "id": "eJpFksH09XYM",
        "colab_type": "code",
        "colab": {}
      },
      "source": [
        "artists_list = ['Banksy','Jean-Michel_Basquiat', 'Blek_le_Rat', 'Cope2', 'DAIM', 'David_choe', 'dondi_white', \n",
        "               'Futura_(graffiti_artist)', 'Keith_Haring', 'Lady_Pink', 'OSGEMEOS', 'Retna', 'ROA_(artist)', 'Seen_(artist)', \n",
        "               'TAKI_183', 'Vhils']\n",
        "out = model_base.predict(sample_features)\n",
        "y_pred = np.argmax(out, axis=1)"
      ],
      "execution_count": 0,
      "outputs": []
    },
    {
      "cell_type": "markdown",
      "metadata": {
        "id": "F1niYyUr6_Yw",
        "colab_type": "text"
      },
      "source": [
        "Model predicts the correct artist:"
      ]
    },
    {
      "cell_type": "code",
      "metadata": {
        "id": "95BQu9o969Mz",
        "colab_type": "code",
        "outputId": "78150f74-2ab6-406b-b48a-a2870d234e14",
        "colab": {
          "base_uri": "https://localhost:8080/",
          "height": 34
        }
      },
      "source": [
        "artist_pred = [artists_list[int(y_pred)]]\n",
        "print(\"The artist predicted from a new sample artwork is:\", artist_pred)"
      ],
      "execution_count": 38,
      "outputs": [
        {
          "output_type": "stream",
          "text": [
            "The artist predicted from a new sample artwork is: ['DAIM']\n"
          ],
          "name": "stdout"
        }
      ]
    },
    {
      "cell_type": "code",
      "metadata": {
        "id": "IfY8sjyNF3Tx",
        "colab_type": "code",
        "colab": {}
      },
      "source": [
        "url = 'https://en.wikipedia.org/wiki/' + str(artist_pred[0])\n",
        "webbrowser.open(url)"
      ],
      "execution_count": 0,
      "outputs": []
    }
  ]
}